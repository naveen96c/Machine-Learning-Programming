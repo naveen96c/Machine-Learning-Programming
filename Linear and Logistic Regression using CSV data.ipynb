{
  "nbformat": 4,
  "nbformat_minor": 0,
  "metadata": {
    "colab": {
      "name": "A3_219155861.ipynb",
      "provenance": [],
      "collapsed_sections": []
    },
    "kernelspec": {
      "display_name": "Python 3",
      "language": "python",
      "name": "python3"
    },
    "language_info": {
      "codemirror_mode": {
        "name": "ipython",
        "version": 3
      },
      "file_extension": ".py",
      "mimetype": "text/x-python",
      "name": "python",
      "nbconvert_exporter": "python",
      "pygments_lexer": "ipython3",
      "version": "3.7.6"
    }
  },
  "cells": [
    {
      "cell_type": "markdown",
      "metadata": {
        "colab_type": "text",
        "id": "74dkCyjsNE7_"
      },
      "source": [
        "#**SIT 720 - Machine Learning**\n",
        "\n",
        "Lecturer: Chandan Karmakar | karmakar@deakin.edu.au\n",
        "\n",
        "School of Information Technology,\n",
        "<br/>Deakin University, VIC 3125, Australia."
      ]
    },
    {
      "cell_type": "markdown",
      "metadata": {
        "colab_type": "text",
        "id": "gQhIyRIHNIhu"
      },
      "source": [
        "#**Assessment Task 3 (40 marks)**\n",
        "\n",
        "##Submission Instruction\n",
        "1.  Student should insert Python code or text responses into the cell followed by the question.\n",
        "\n",
        "2.  For answers regarding discussion or explanation, **maximum five sentences are suggested**.\n",
        "\n",
        "3.  Rename this notebook file appending your student ID. For example, for student ID 1234, the submitted file name should be A3_1234.ipynb.\n",
        "\n",
        "4.  Insert your student ID and name in the following cell."
      ]
    },
    {
      "cell_type": "code",
      "metadata": {
        "colab_type": "code",
        "id": "gdZPzuPLNM5f",
        "colab": {}
      },
      "source": [
        "# Student ID: 219155861\n",
        "\n",
        "# Student name: Naveen Chuka Radhakrishna"
      ],
      "execution_count": null,
      "outputs": []
    },
    {
      "cell_type": "markdown",
      "metadata": {
        "colab_type": "text",
        "id": "8Bb-CS27NWdS"
      },
      "source": [
        "## Background\n",
        "\n",
        "Environment and its changes are the most complex system. It is unarguably accepted that the temperature changes are greately affected by various environmental factors. Many of them are positively related to the  change, whereas, some have negative correlation. In this assesment task, you will analyse relationship among various environmental factors, which affect temperature.\n",
        "\n",
        "##The dataset\n",
        "\n",
        "**Dataset file name:** weather_dataset.csv\n",
        "\n",
        "**Dataset description:** The dataset contains total 10 features. Each row contains an hourly record of weather status and the data was recorded for the time period between 2006 and 2016.\n",
        "\n",
        "**Features and labels:** \n",
        "\n",
        "1.   recording_date_time (date_time): Date and time the data was recorded\n",
        "2.   precip_type (string): Precipitation status, blank (no value) indicates unknown status\n",
        "3.   temperature (float): Temperature in degree Celsius\n",
        "4.   apparent_temperature (float): Feel like temperature in degree Celsius\n",
        "5.   humidity (float): Percentage amount of water vapour in the air \n",
        "6.   wind_speed (float): Speed of the wind in km per hour\n",
        "7.   wind_bearing (int): The direction of wind in degree in geo-polar co-ordinate. Value 0 means perfect east, 90 means perfect north, 180 and 270 means west and south respectively.\n",
        "8.   visibility (float): Distance in km that is visible in naked eyes.\n",
        "9.   cloud_cover (float): The fraction of the sky obscured by clouds. The value is 1 if the observed area is fully cloudy, 0 if no clouds and other fractional value indicates the portion of the area covered by clouds.\n",
        "10.   pressure (float): Air pressure or atmospheric in milibars\n"
      ]
    },
    {
      "cell_type": "markdown",
      "metadata": {
        "colab_type": "text",
        "id": "TkUeSXbIODoE"
      },
      "source": [
        "##**Part 1: Linear Regression:**  **(25 marks)**\n",
        "\n",
        "\n",
        "1.   Load the dataset and split the data for training and testing - consider the data of last 2 years (2015 and 2016) for testing. Now exclude recording_date_time column from both training and test sets. Display the shape of training and test sets. **(3 marks)**"
      ]
    },
    {
      "cell_type": "code",
      "metadata": {
        "colab_type": "code",
        "id": "KugpF4o5OKHD",
        "colab": {
          "base_uri": "https://localhost:8080/",
          "height": 279
        },
        "outputId": "3529bc77-4dff-482c-94a0-8b9e9c3f21cb"
      },
      "source": [
        "import pandas as pd\n",
        "import numpy as np\n",
        "#read the weather dataset \n",
        "weather_Dataset= pd.read_csv(\"/content/sample_data/weather_dataset.csv\")\n",
        "#First 5 rows of the dataset is displayed\n",
        "weather_Dataset.head()"
      ],
      "execution_count": 1,
      "outputs": [
        {
          "output_type": "execute_result",
          "data": {
            "text/html": [
              "<div>\n",
              "<style scoped>\n",
              "    .dataframe tbody tr th:only-of-type {\n",
              "        vertical-align: middle;\n",
              "    }\n",
              "\n",
              "    .dataframe tbody tr th {\n",
              "        vertical-align: top;\n",
              "    }\n",
              "\n",
              "    .dataframe thead th {\n",
              "        text-align: right;\n",
              "    }\n",
              "</style>\n",
              "<table border=\"1\" class=\"dataframe\">\n",
              "  <thead>\n",
              "    <tr style=\"text-align: right;\">\n",
              "      <th></th>\n",
              "      <th>recording_date_time</th>\n",
              "      <th>precip_type</th>\n",
              "      <th>temperature</th>\n",
              "      <th>apparent_temperature</th>\n",
              "      <th>humidity</th>\n",
              "      <th>wind_speed</th>\n",
              "      <th>wind_bearing</th>\n",
              "      <th>visibility</th>\n",
              "      <th>cloud_cover</th>\n",
              "      <th>pressure</th>\n",
              "    </tr>\n",
              "  </thead>\n",
              "  <tbody>\n",
              "    <tr>\n",
              "      <th>0</th>\n",
              "      <td>2006-04-01 00:00:00.000 +0200</td>\n",
              "      <td>rain</td>\n",
              "      <td>9.47</td>\n",
              "      <td>7.39</td>\n",
              "      <td>0.89</td>\n",
              "      <td>14.12</td>\n",
              "      <td>251</td>\n",
              "      <td>15.83</td>\n",
              "      <td>0</td>\n",
              "      <td>1015.13</td>\n",
              "    </tr>\n",
              "    <tr>\n",
              "      <th>1</th>\n",
              "      <td>2006-04-01 01:00:00.000 +0200</td>\n",
              "      <td>rain</td>\n",
              "      <td>9.36</td>\n",
              "      <td>7.23</td>\n",
              "      <td>0.86</td>\n",
              "      <td>14.26</td>\n",
              "      <td>259</td>\n",
              "      <td>15.83</td>\n",
              "      <td>0</td>\n",
              "      <td>1015.63</td>\n",
              "    </tr>\n",
              "    <tr>\n",
              "      <th>2</th>\n",
              "      <td>2006-04-01 02:00:00.000 +0200</td>\n",
              "      <td>rain</td>\n",
              "      <td>9.38</td>\n",
              "      <td>9.38</td>\n",
              "      <td>0.89</td>\n",
              "      <td>3.93</td>\n",
              "      <td>204</td>\n",
              "      <td>14.96</td>\n",
              "      <td>0</td>\n",
              "      <td>1015.94</td>\n",
              "    </tr>\n",
              "    <tr>\n",
              "      <th>3</th>\n",
              "      <td>2006-04-01 03:00:00.000 +0200</td>\n",
              "      <td>rain</td>\n",
              "      <td>8.29</td>\n",
              "      <td>5.94</td>\n",
              "      <td>0.83</td>\n",
              "      <td>14.10</td>\n",
              "      <td>269</td>\n",
              "      <td>15.83</td>\n",
              "      <td>0</td>\n",
              "      <td>1016.41</td>\n",
              "    </tr>\n",
              "    <tr>\n",
              "      <th>4</th>\n",
              "      <td>2006-04-01 04:00:00.000 +0200</td>\n",
              "      <td>rain</td>\n",
              "      <td>8.76</td>\n",
              "      <td>6.98</td>\n",
              "      <td>0.83</td>\n",
              "      <td>11.04</td>\n",
              "      <td>259</td>\n",
              "      <td>15.83</td>\n",
              "      <td>0</td>\n",
              "      <td>1016.51</td>\n",
              "    </tr>\n",
              "  </tbody>\n",
              "</table>\n",
              "</div>"
            ],
            "text/plain": [
              "             recording_date_time precip_type  ...  cloud_cover  pressure\n",
              "0  2006-04-01 00:00:00.000 +0200        rain  ...            0   1015.13\n",
              "1  2006-04-01 01:00:00.000 +0200        rain  ...            0   1015.63\n",
              "2  2006-04-01 02:00:00.000 +0200        rain  ...            0   1015.94\n",
              "3  2006-04-01 03:00:00.000 +0200        rain  ...            0   1016.41\n",
              "4  2006-04-01 04:00:00.000 +0200        rain  ...            0   1016.51\n",
              "\n",
              "[5 rows x 10 columns]"
            ]
          },
          "metadata": {
            "tags": []
          },
          "execution_count": 1
        }
      ]
    },
    {
      "cell_type": "code",
      "metadata": {
        "id": "Ns6qTKqThNhj",
        "colab_type": "code",
        "colab": {
          "base_uri": "https://localhost:8080/",
          "height": 50
        },
        "outputId": "5f62d547-918a-429e-848d-a9df527b5292"
      },
      "source": [
        "#Splitting the test data and training data from weather dataset\n",
        "testing_Data = weather_Dataset[weather_Dataset['recording_date_time'].str.startswith('2015')| weather_Dataset['recording_date_time'].str.startswith( '2016')] \n",
        "training_data = weather_Dataset.drop(index = testing_Data.index, axis=1)\n",
        "\n",
        "#Excluding the recording_date_time column from the train and test data sets.\n",
        "test_data = testing_Data.drop(['recording_date_time'],axis=1)\n",
        "train_data = training_data.drop(['recording_date_time'],axis=1)\n",
        "\n",
        "#Shape of the test and train data.\n",
        "print(\"The shape of Test data: \",test_data.shape)\n",
        "print(\"the shape of Train data: \",train_data.shape)"
      ],
      "execution_count": 4,
      "outputs": [
        {
          "output_type": "stream",
          "text": [
            "The shape of Test data:  (17544, 9)\n",
            "the shape of Train data:  (78909, 9)\n"
          ],
          "name": "stdout"
        }
      ]
    },
    {
      "cell_type": "markdown",
      "metadata": {
        "colab_type": "text",
        "id": "tir1JyxlOVQf"
      },
      "source": [
        "2.  Consider the 'temperature' as the target. List the insignificant features for predicting temperature, if any. Explain your findings. **(5 marks)**\n",
        "<br/><font color='green'>**[Hint for students: See the \"7.3 Relevance and Covariance among features or variables\" for more information.]** <font/>"
      ]
    },
    {
      "cell_type": "code",
      "metadata": {
        "id": "FZl4AB70jSSw",
        "colab_type": "code",
        "colab": {
          "base_uri": "https://localhost:8080/",
          "height": 1000
        },
        "outputId": "a349218b-da1e-4a44-ca10-7d859e65978b"
      },
      "source": [
        "from scipy import stats\n",
        "import matplotlib.pyplot as plt\n",
        "#Empty list is created for significant and insignificant features \n",
        "significant_features = []\n",
        "insignificant_features = []\n",
        "\n",
        "#precip type is in str so converted into int \n",
        "train_data['precip_type'] =train_data['precip_type'].astype('category').cat.codes\n",
        "\n",
        "#for loop to find correlation of all features in the dataset keeping temperature as target variable\n",
        "for col in train_data.drop([\"temperature\"], axis = 1).columns:\n",
        "  #scatter plot is done for all the features\n",
        "    print(\"The scatter plot of\", {col}, \"and temperature:\")\n",
        "    plt.scatter(train_data[col],train_data.temperature, color=\"blue\")\n",
        "    #nameing x and y axis\n",
        "    plt.xlabel(col)\n",
        "    plt.ylabel(\"temperature\")\n",
        "    plt.show()\n",
        "#pearsonr method is used to find out the correlation between the features in the dataset keeping temperature as target variable\n",
        "    pearson = stats.pearsonr(train_data[col],train_data.temperature)[0]\n",
        "    print(\"The Pearson’s Correlation Coefficient value between\", {col}, \"and temperature:\",{pearson})\n",
        "    abs_pearson = abs(pearson)\n",
        "    # The correlation threshold i kept is 0.5 correaltion number greater than 0.5 are considered as significant variables\n",
        "    if abs_pearson >= 0.5:\n",
        "        significant_features.append(col)\n",
        "    #The correlation values less than 0.5 are considered as insignificant features\n",
        "    else:\n",
        "        insignificant_features.append(col)\n",
        "        print({col}, \"is insignificant for predicting temperature\")\n",
        "    print(\"*\"*120)\n",
        "\n",
        "print(f'The significant features for predict tempereture: {significant_features}')\n",
        "print(f'The insignificant features for predict temperature: {insignificant_features}')"
      ],
      "execution_count": 45,
      "outputs": [
        {
          "output_type": "stream",
          "text": [
            "The scatter plot of {'precip_type'} and temperature:\n"
          ],
          "name": "stdout"
        },
        {
          "output_type": "display_data",
          "data": {
            "image/png": "[encoded data removed]",
            "text/plain": [
              "<Figure size 432x288 with 1 Axes>"
            ]
          },
          "metadata": {
            "tags": [],
            "needs_background": "light"
          }
        },
        {
          "output_type": "stream",
          "text": [
            "The Pearson’s Correlation Coefficient value between {'precip_type'} and temperature: {-0.5783945936557482}\n",
            "************************************************************************************************************************\n",
            "The scatter plot of {'apparent_temperature'} and temperature:\n"
          ],
          "name": "stdout"
        },
        {
          "output_type": "display_data",
          "data": {
            "image/png": "[encoded data removed]",
            "text/plain": [
              "<Figure size 432x288 with 1 Axes>"
            ]
          },
          "metadata": {
            "tags": [],
            "needs_background": "light"
          }
        },
        {
          "output_type": "stream",
          "text": [
            "The Pearson’s Correlation Coefficient value between {'apparent_temperature'} and temperature: {0.9924134287248896}\n",
            "************************************************************************************************************************\n",
            "The scatter plot of {'humidity'} and temperature:\n"
          ],
          "name": "stdout"
        },
        {
          "output_type": "display_data",
          "data": {
            "image/png": "[encoded data removed]",
            "text/plain": [
              "<Figure size 432x288 with 1 Axes>"
            ]
          },
          "metadata": {
            "tags": [],
            "needs_background": "light"
          }
        },
        {
          "output_type": "stream",
          "text": [
            "The Pearson’s Correlation Coefficient value between {'humidity'} and temperature: {-0.6316348195850394}\n",
            "************************************************************************************************************************\n",
            "The scatter plot of {'wind_speed'} and temperature:\n"
          ],
          "name": "stdout"
        },
        {
          "output_type": "display_data",
          "data": {
            "image/png": "[encoded data removed]",
            "text/plain": [
              "<Figure size 432x288 with 1 Axes>"
            ]
          },
          "metadata": {
            "tags": [],
            "needs_background": "light"
          }
        },
        {
          "output_type": "stream",
          "text": [
            "The Pearson’s Correlation Coefficient value between {'wind_speed'} and temperature: {0.010945498975510379}\n",
            "{'wind_speed'} is insignificant for predicting temperature\n",
            "************************************************************************************************************************\n",
            "The scatter plot of {'wind_bearing'} and temperature:\n"
          ],
          "name": "stdout"
        },
        {
          "output_type": "display_data",
          "data": {
            "image/png": "[encoded data removed]",
            "text/plain": [
              "<Figure size 432x288 with 1 Axes>"
            ]
          },
          "metadata": {
            "tags": [],
            "needs_background": "light"
          }
        },
        {
          "output_type": "stream",
          "text": [
            "The Pearson’s Correlation Coefficient value between {'wind_bearing'} and temperature: {0.02977102375895863}\n",
            "{'wind_bearing'} is insignificant for predicting temperature\n",
            "************************************************************************************************************************\n",
            "The scatter plot of {'visibility'} and temperature:\n"
          ],
          "name": "stdout"
        },
        {
          "output_type": "display_data",
          "data": {
            "image/png": "[encoded data removed]",
            "text/plain": [
              "<Figure size 432x288 with 1 Axes>"
            ]
          },
          "metadata": {
            "tags": [],
            "needs_background": "light"
          }
        },
        {
          "output_type": "stream",
          "text": [
            "The Pearson’s Correlation Coefficient value between {'visibility'} and temperature: {0.3711535529951888}\n",
            "{'visibility'} is insignificant for predicting temperature\n",
            "************************************************************************************************************************\n",
            "The scatter plot of {'cloud_cover'} and temperature:\n"
          ],
          "name": "stdout"
        },
        {
          "output_type": "display_data",
          "data": {
            "image/png": "[encoded data removed]",
            "text/plain": [
              "<Figure size 432x288 with 1 Axes>"
            ]
          },
          "metadata": {
            "tags": [],
            "needs_background": "light"
          }
        },
        {
          "output_type": "stream",
          "text": [
            "The Pearson’s Correlation Coefficient value between {'cloud_cover'} and temperature: {nan}\n",
            "{'cloud_cover'} is insignificant for predicting temperature\n",
            "************************************************************************************************************************\n",
            "The scatter plot of {'pressure'} and temperature:\n"
          ],
          "name": "stdout"
        },
        {
          "output_type": "display_data",
          "data": {
            "image/png": "[encoded data removed]",
            "text/plain": [
              "<Figure size 432x288 with 1 Axes>"
            ]
          },
          "metadata": {
            "tags": [],
            "needs_background": "light"
          }
        },
        {
          "output_type": "stream",
          "text": [
            "The Pearson’s Correlation Coefficient value between {'pressure'} and temperature: {-0.010479972997426028}\n",
            "{'pressure'} is insignificant for predicting temperature\n",
            "************************************************************************************************************************\n",
            "The significant features for predict tempereture: ['precip_type', 'apparent_temperature', 'humidity']\n",
            "The insignificant features for predict temperature: ['wind_speed', 'wind_bearing', 'visibility', 'cloud_cover', 'pressure']\n"
          ],
          "name": "stdout"
        }
      ]
    },
    {
      "cell_type": "markdown",
      "metadata": {
        "id": "qwlQITtREJ_X",
        "colab_type": "text"
      },
      "source": [
        "**EXPLANATION:**\n",
        "**Selecting significant and insignificant features for predicting Temperature:** The recording_date_time column is removed and precip_type feature is in string to obtain a correlation, conversion of categorical features to numerical needed to be done all of our categorical features tend to be binary. If that is not the case we need to plan a custom order. I took the corrleation threshold as 0.5 so features greater than 0.5 are considered as significant and other features are considered as insignificant features.\n",
        "**Significant features are:** precip_type, apparent_temperature, humidity and **Insignificant features are:** wind_speed, wind_bearing, visibility, cloud_cover, pressure.\n",
        "\n"
      ]
    },
    {
      "cell_type": "markdown",
      "metadata": {
        "colab_type": "text",
        "id": "_mC_pm60V4VB"
      },
      "source": [
        "3.  Now create a linear model considering the 'temperature' as the target variable and other columns as features (you can optionally remove non-contributing features). Show the test performance (as Mean Absolute Error, MAE) of the model. **(5 marks)**"
      ]
    },
    {
      "cell_type": "code",
      "metadata": {
        "colab_type": "code",
        "id": "wUIhRhssWq8h",
        "colab": {
          "base_uri": "https://localhost:8080/",
          "height": 67
        },
        "outputId": "c91da3ea-45d5-4a0c-d2f8-e7d6752b23b2"
      },
      "source": [
        "import numpy as np\n",
        "from sklearn.linear_model import LinearRegression\n",
        "from sklearn import metrics\n",
        "from sklearn.preprocessing import scale\n",
        "\n",
        "#considering the significant features only\n",
        "\n",
        "#For Train data\n",
        "Y_train_Linear = train_data.temperature  \n",
        "X_train_Linear =train_data.drop(['temperature','wind_speed','wind_bearing','pressure','cloud_cover','visibility'],axis=1)\n",
        "#For Test data\n",
        "Y_test_Linear = test_data.temperature   \n",
        "X_test_Linear = test_data.drop(['temperature','wind_speed','wind_bearing','pressure','cloud_cover','visibility'],axis=1)\n",
        "\n",
        "#Building the model.\n",
        "regression = LinearRegression()  \n",
        "regression.fit(X_train_Linear, Y_train_Linear)\n",
        "X_test_Linear['precip_type'] =X_test_Linear['precip_type'].astype('category').cat.codes\n",
        "Y_pred_Linear = regression.predict(X_test_Linear)\n",
        "df_L = pd.DataFrame({'Actual': Y_test_Linear, 'Predicted': Y_pred_Linear})\n",
        "df1_L = df_L.head(10)\n",
        "\n",
        "print('Mean Absolute Error:', metrics.mean_absolute_error(Y_test_Linear, Y_pred_Linear))  \n",
        "print('Mean Squared Error:', metrics.mean_squared_error(Y_test_Linear, Y_pred_Linear))  \n",
        "print('Root Mean Squared Error:', np.sqrt(metrics.mean_squared_error(Y_test_Linear, Y_pred_Linear)))"
      ],
      "execution_count": 15,
      "outputs": [
        {
          "output_type": "stream",
          "text": [
            "Mean Absolute Error: 0.7635283567084328\n",
            "Mean Squared Error: 0.9453236601477598\n",
            "Root Mean Squared Error: 0.9722775633263168\n"
          ],
          "name": "stdout"
        }
      ]
    },
    {
      "cell_type": "markdown",
      "metadata": {
        "colab_type": "text",
        "id": "v428CdiaOaad"
      },
      "source": [
        "4.   Find the feature which shows maximum correlation with \"pressure\". Create a linear regression model to predict temperature using these two features ('pressure' and the one which shows maximum correlation). Compare the performance of this simplified model with the model developed in the previous question (Q-3). Explain the performance variation, if any. **(6 marks)**"
      ]
    },
    {
      "cell_type": "code",
      "metadata": {
        "colab_type": "code",
        "id": "aKsPiuGCOM5F",
        "colab": {
          "base_uri": "https://localhost:8080/",
          "height": 202
        },
        "outputId": "c5096432-f712-46c7-f8e2-0773cdb813ca"
      },
      "source": [
        "#printing correlations for all the features keeping pressure as target variable\n",
        "print(train_data[train_data.columns[:]].corr()['pressure'][:])\n",
        "print(\"Maximum correlation coefficient is: Visibility\" )\n"
      ],
      "execution_count": 18,
      "outputs": [
        {
          "output_type": "stream",
          "text": [
            "precip_type             0.018172\n",
            "temperature            -0.010480\n",
            "apparent_temperature   -0.005677\n",
            "humidity                0.005328\n",
            "wind_speed             -0.046858\n",
            "wind_bearing           -0.010980\n",
            "visibility              0.051819\n",
            "cloud_cover                  NaN\n",
            "pressure                1.000000\n",
            "Name: pressure, dtype: float64\n",
            "Maximum correlation coefficient is: Visibility\n"
          ],
          "name": "stdout"
        }
      ]
    },
    {
      "cell_type": "code",
      "metadata": {
        "id": "3z1dlTACSD4f",
        "colab_type": "code",
        "colab": {
          "base_uri": "https://localhost:8080/",
          "height": 67
        },
        "outputId": "89361f2e-0e20-4962-d321-a945044e10cd"
      },
      "source": [
        "import warnings\n",
        "warnings.filterwarnings('ignore')\n",
        "\n",
        "#Seperating the target features for Test and train data and considering the significant features.\n",
        "#For Train data\n",
        "Y_train_Linearp = train_data.temperature\n",
        "\n",
        "#consider only pressure and visibility features\n",
        "X_train_Linearp =train_data.drop(['precip_type','temperature','apparent_temperature','humidity','wind_speed','wind_bearing','cloud_cover'],axis=1)\n",
        "\n",
        "#For Test data\n",
        "Y_test_Linearp = test_data.temperature \n",
        "X_test_Linearp = test_data.drop(['precip_type','temperature','apparent_temperature','humidity','wind_speed','wind_bearing','cloud_cover'],axis=1)\n",
        "\n",
        "#Building the model.\n",
        "regressor = LinearRegression()  \n",
        "regressor.fit(X_train_Linearp, Y_train_Linearp)\n",
        "Y_pred_Linearp = regressor.predict(X_test_Linearp)\n",
        "df_Lp = pd.DataFrame({'Actual': Y_test_Linearp, 'Predicted': Y_pred_Linearp})\n",
        "df1_Lp = df_Lp.head(10)\n",
        "\n",
        "print('Mean Absolute Error:', metrics.mean_absolute_error(Y_test_Linearp, Y_pred_Linearp))  \n",
        "print('Mean Squared Error:', metrics.mean_squared_error(Y_test_Linearp, Y_pred_Linearp))  \n",
        "print('Root Mean Squared Error:', np.sqrt(metrics.mean_squared_error(Y_test_Linearp, Y_pred_Linearp)))"
      ],
      "execution_count": 19,
      "outputs": [
        {
          "output_type": "stream",
          "text": [
            "Mean Absolute Error: 6.498840791843139\n",
            "Mean Squared Error: 64.7674290984127\n",
            "Root Mean Squared Error: 8.04782138832695\n"
          ],
          "name": "stdout"
        }
      ]
    },
    {
      "cell_type": "markdown",
      "metadata": {
        "id": "SL8TXcfHIHIf",
        "colab_type": "text"
      },
      "source": [
        "**EXPLANATION:**\n",
        "From the above outputs, the MSE and MAE of Q3 are much smaller and have the better results than the MSE and MAE of Q4. Therefore, it is clear that the model in Q3 is better than the model in Q4. The relationship of temperature with other features like precip_type, apparent_temperature,and humidity are better and also they are significant while the relationship of temperature with the variables visibility and pressure have less linear relatioship. So, the performance is modified. \n",
        "\n"
      ]
    },
    {
      "cell_type": "markdown",
      "metadata": {
        "colab_type": "text",
        "id": "0-jv9d7oOtHe"
      },
      "source": [
        "5. Apportion the complete dataset into training and test sets, with an 40-60 split. **(6 marks)**\n",
        "\n",
        "  (a)  Train a linear regression model without considering overfitting scenario and report the test performance. \n",
        "  \n",
        "  (b) Create an optimal regularised linear regression model and report the test performance.\n",
        "  \n",
        "  (c) Explain the reason behind the performance variation, if any.\n"
      ]
    },
    {
      "cell_type": "code",
      "metadata": {
        "colab_type": "code",
        "id": "jNk_egyXONc2",
        "colab": {
          "base_uri": "https://localhost:8080/",
          "height": 101
        },
        "outputId": "830597ad-fc4d-40ff-f677-c99f450e3b3a"
      },
      "source": [
        "# 5(a)\n",
        "from sklearn.model_selection import train_test_split \n",
        "\n",
        "y_40_60 = weather_Dataset.temperature \n",
        "X_40_60 = weather_Dataset.drop(['recording_date_time','temperature','wind_speed','wind_bearing','pressure','cloud_cover'],axis=1)\n",
        "#splitting the dataset into training and testing  \n",
        "X_train_40_60, X_test_40_60, y_train_40_60, y_test_40_60 = train_test_split(X_40_60, y_40_60, test_size=0.6, random_state=0)\n",
        "\n",
        "#model building\n",
        "linear_Regression = LinearRegression()  \n",
        "\n",
        "#changing precip_type of train and test data from str to int\n",
        "X_train_40_60['precip_type']= X_train_40_60['precip_type'].astype('category').cat.codes\n",
        "X_test_40_60['precip_type']= X_test_40_60['precip_type'].astype('category').cat.codes\n",
        "linear_Regression.fit(X_train_40_60, y_train_40_60) \n",
        "y_pred_40_60 = linear_Regression.predict(X_test_40_60)\n",
        "\n",
        "#To retrieve the intercept:\n",
        "print('The intercept value is:',linear_Regression.intercept_)\n",
        "#For retrieving the slope:\n",
        "print('The coefficient values are:',linear_Regression.coef_)\n",
        "\n",
        "print('Mean Absolute Error:', metrics.mean_absolute_error(y_test_40_60, y_pred_40_60))  \n",
        "print('Mean Squared Error:', metrics.mean_squared_error(y_test_40_60, y_pred_40_60))  \n",
        "print('Root Mean Squared Error:', np.sqrt(metrics.mean_squared_error(y_test_40_60, y_pred_40_60)))"
      ],
      "execution_count": 20,
      "outputs": [
        {
          "output_type": "stream",
          "text": [
            "The intercept value is: 4.4906587163914\n",
            "The coefficient values are: [-0.31748204  0.85035067 -2.61855425  0.01608304]\n",
            "Mean Absolute Error: 0.8242327795133191\n",
            "Mean Squared Error: 1.1584068266915226\n",
            "Root Mean Squared Error: 1.0762930951611287\n"
          ],
          "name": "stdout"
        }
      ]
    },
    {
      "cell_type": "code",
      "metadata": {
        "id": "RKo07MuYSD4k",
        "colab_type": "code",
        "colab": {
          "base_uri": "https://localhost:8080/",
          "height": 202
        },
        "outputId": "a4367ca2-749b-44e7-e591-ab879af032ad"
      },
      "source": [
        "# 5(b)\n",
        "from sklearn.model_selection import train_test_split \n",
        "from sklearn.model_selection import cross_val_score\n",
        "from sklearn.linear_model import Ridge, Lasso\n",
        "from sklearn.model_selection import GridSearchCV\n",
        "\n",
        "#Ridge Regression\n",
        "param = {'alpha': [1e-15,1e-10,1e-8,1e-4,1e-3,1e-2,1,5,10,20]}\n",
        "\n",
        "Ridge_regression = Ridge()\n",
        "#grid search is performed using ridge regression \n",
        "Gridridge_regression = GridSearchCV(Ridge_regression, param, scoring='neg_mean_squared_error',cv=15)\n",
        "Gridridge_regression.fit(X_train_40_60, y_train_40_60) \n",
        "GSRidge_y_pred_40_60 = Gridridge_regression.predict(X_test_40_60)\n",
        "print('The best param of Ridge Regression is',Gridridge_regression.best_params_)\n",
        "print('The best score of Ridge Regression is',Gridridge_regression.best_score_)\n",
        "\n",
        "print('Mean Absolute Error:', metrics.mean_absolute_error(y_test_40_60, GSRidge_y_pred_40_60))  \n",
        "print('Mean Squared Error:', metrics.mean_squared_error(y_test_40_60, GSRidge_y_pred_40_60))  \n",
        "print('Root Mean Squared Error:', np.sqrt(metrics.mean_squared_error(y_test_40_60, GSRidge_y_pred_40_60)))\n",
        "print(\"*\"*120)\n",
        "#lasso Regression\n",
        "param = {'alpha': [1e-15,1e-10,1e-8,1e-4,1e-3,1e-2,1,5,10,20]}\n",
        "\n",
        "Lasso_regression = Lasso()\n",
        "#grid search is performed using lasso regression \n",
        "Gridlasso_regression = GridSearchCV(Lasso_regression, param, scoring='neg_mean_squared_error',cv=15)\n",
        "Gridlasso_regression.fit(X_train_40_60, y_train_40_60) \n",
        "GSLasso_y_pred_40_60 = Gridlasso_regression.predict(X_test_40_60)\n",
        "print('The best param of Lasso Regression is',Gridlasso_regression.best_params_)\n",
        "print('The best score of Lasso Regression is',Gridlasso_regression.best_score_)\n",
        "\n",
        "print('Mean Absolute Error:', metrics.mean_absolute_error(y_test_40_60, GSLasso_y_pred_40_60))  \n",
        "print('Mean Squared Error:', metrics.mean_squared_error(y_test_40_60, GSLasso_y_pred_40_60))  \n",
        "print('Root Mean Squared Error:', np.sqrt(metrics.mean_squared_error(y_test_40_60, GSLasso_y_pred_40_60)))"
      ],
      "execution_count": 46,
      "outputs": [
        {
          "output_type": "stream",
          "text": [
            "The best param of Ridge Regression is {'alpha': 0.01}\n",
            "The best score of Ridge Regression is -1.168531331500867\n",
            "Mean Absolute Error: 0.8242325509203486\n",
            "Mean Squared Error: 1.1584068644714858\n",
            "Root Mean Squared Error: 1.076293112712093\n",
            "************************************************************************************************************************\n",
            "The best param of Lasso Regression is {'alpha': 1e-15}\n",
            "The best score of Lasso Regression is -1.1685313323875\n",
            "Mean Absolute Error: 0.8242327795133187\n",
            "Mean Squared Error: 1.1584068266915226\n",
            "Root Mean Squared Error: 1.0762930951611287\n"
          ],
          "name": "stdout"
        }
      ]
    },
    {
      "cell_type": "markdown",
      "metadata": {
        "id": "PCFTScILzkqu",
        "colab_type": "text"
      },
      "source": [
        "C) The Ridge and Lasso regression are applied using grid based search there is no much variations between linear regression and Ridge and lasso regression. But the optimal regression of ridge is slitely better when compared with Lasso and linear regression because ridge optimal has better MSE and MAE values. "
      ]
    },
    {
      "cell_type": "markdown",
      "metadata": {
        "colab_type": "text",
        "id": "CtcCZwIMOxwi"
      },
      "source": [
        "##**Part 2: Logistic Regression:**  **(9 marks)**\n",
        "\n",
        "\n",
        "1.  Can the same target (temperature, mentioned in Part-1) be used for logistic regression? Why? **(2 marks)**"
      ]
    },
    {
      "cell_type": "code",
      "metadata": {
        "colab_type": "code",
        "id": "knM4rfghOORu",
        "colab": {}
      },
      "source": [
        "Temperature feature is only suitable for linear regression problem because temperature is continous numerical value. \n",
        "While, logistic regerssion is used for classifying so temperature cannot used for logistic regression."
      ],
      "execution_count": null,
      "outputs": []
    },
    {
      "cell_type": "markdown",
      "metadata": {
        "colab_type": "text",
        "id": "a5w0t5-To1nB"
      },
      "source": [
        "2.  Split the dataset as 70-30% for training and testing. Create a logistic regression model to predict the 'precip_type'. Report the prediction accuracy of your model whether the \"precip_type\" is \"rain\" or not (use decision threshold of 0.45). **(5 marks)**\n",
        "\n"
      ]
    },
    {
      "cell_type": "code",
      "metadata": {
        "colab_type": "code",
        "id": "vzRgiUq9wEHY",
        "colab": {
          "base_uri": "https://localhost:8080/",
          "height": 418
        },
        "outputId": "2235dd8a-70c6-40d0-adae-3caa90bf6ad1"
      },
      "source": [
        "from sklearn.model_selection import train_test_split \n",
        "from sklearn.linear_model import LogisticRegression\n",
        "from sklearn import metrics\n",
        "#consider only precip_type for y \n",
        "y_logistic = weather_Dataset.loc[:, weather_Dataset.columns == 'precip_type']\n",
        "X_logistic = weather_Dataset.drop(['precip_type','recording_date_time'],axis=1)\n",
        "#splitting the datset into training and testing as 70% and 30%\n",
        "X_train_log, X_test_log, y_train_log, y_test_log = train_test_split(X_logistic, y_logistic, test_size=0.3, random_state=0)\n",
        "\n",
        "logistic_Regression = LogisticRegression()\n",
        "logistic_Regression.fit(X_train_log, y_train_log)\n",
        "# A threshold of 0.45 is applied\n",
        "y_pred_new_threshold = (logistic_Regression.predict_proba(X_test_log)[:,1]>=0.45).astype(int)\n",
        "#converting precip_type str to int\n",
        "y_test_0_1 = y_test_log['precip_type'].astype('category').cat.codes\n",
        "\n",
        "print('Accuracy of logistic regression classifier on test set: {:.2f}'.format(logistic_Regression.score(X_test_log, y_test_log))) \n",
        "predicted_Data = pd.DataFrame({'Actual': y_test_0_1, 'Predicted': y_pred_new_threshold})\n",
        "predicted_Data"
      ],
      "execution_count": 44,
      "outputs": [
        {
          "output_type": "stream",
          "text": [
            "Accuracy of logistic regression classifier on test set: 0.98\n"
          ],
          "name": "stdout"
        },
        {
          "output_type": "execute_result",
          "data": {
            "text/html": [
              "<div>\n",
              "<style scoped>\n",
              "    .dataframe tbody tr th:only-of-type {\n",
              "        vertical-align: middle;\n",
              "    }\n",
              "\n",
              "    .dataframe tbody tr th {\n",
              "        vertical-align: top;\n",
              "    }\n",
              "\n",
              "    .dataframe thead th {\n",
              "        text-align: right;\n",
              "    }\n",
              "</style>\n",
              "<table border=\"1\" class=\"dataframe\">\n",
              "  <thead>\n",
              "    <tr style=\"text-align: right;\">\n",
              "      <th></th>\n",
              "      <th>Actual</th>\n",
              "      <th>Predicted</th>\n",
              "    </tr>\n",
              "  </thead>\n",
              "  <tbody>\n",
              "    <tr>\n",
              "      <th>6119</th>\n",
              "      <td>0</td>\n",
              "      <td>0</td>\n",
              "    </tr>\n",
              "    <tr>\n",
              "      <th>51443</th>\n",
              "      <td>0</td>\n",
              "      <td>0</td>\n",
              "    </tr>\n",
              "    <tr>\n",
              "      <th>18754</th>\n",
              "      <td>0</td>\n",
              "      <td>0</td>\n",
              "    </tr>\n",
              "    <tr>\n",
              "      <th>34070</th>\n",
              "      <td>0</td>\n",
              "      <td>0</td>\n",
              "    </tr>\n",
              "    <tr>\n",
              "      <th>26082</th>\n",
              "      <td>0</td>\n",
              "      <td>0</td>\n",
              "    </tr>\n",
              "    <tr>\n",
              "      <th>...</th>\n",
              "      <td>...</td>\n",
              "      <td>...</td>\n",
              "    </tr>\n",
              "    <tr>\n",
              "      <th>74486</th>\n",
              "      <td>0</td>\n",
              "      <td>0</td>\n",
              "    </tr>\n",
              "    <tr>\n",
              "      <th>92324</th>\n",
              "      <td>0</td>\n",
              "      <td>0</td>\n",
              "    </tr>\n",
              "    <tr>\n",
              "      <th>81506</th>\n",
              "      <td>0</td>\n",
              "      <td>0</td>\n",
              "    </tr>\n",
              "    <tr>\n",
              "      <th>10265</th>\n",
              "      <td>0</td>\n",
              "      <td>0</td>\n",
              "    </tr>\n",
              "    <tr>\n",
              "      <th>65351</th>\n",
              "      <td>0</td>\n",
              "      <td>0</td>\n",
              "    </tr>\n",
              "  </tbody>\n",
              "</table>\n",
              "<p>28936 rows × 2 columns</p>\n",
              "</div>"
            ],
            "text/plain": [
              "       Actual  Predicted\n",
              "6119        0          0\n",
              "51443       0          0\n",
              "18754       0          0\n",
              "34070       0          0\n",
              "26082       0          0\n",
              "...       ...        ...\n",
              "74486       0          0\n",
              "92324       0          0\n",
              "81506       0          0\n",
              "10265       0          0\n",
              "65351       0          0\n",
              "\n",
              "[28936 rows x 2 columns]"
            ]
          },
          "metadata": {
            "tags": []
          },
          "execution_count": 44
        }
      ]
    },
    {
      "cell_type": "markdown",
      "metadata": {
        "id": "M6XkcPUkS7k1",
        "colab_type": "text"
      },
      "source": [
        "In the above code binary 0 is considered as rain and 1 is considered as snow. The predicted and actual data rows are equal. Therefore precip_type is predicted as rain."
      ]
    },
    {
      "cell_type": "markdown",
      "metadata": {
        "colab_type": "text",
        "id": "Yn7--XRkrIK9"
      },
      "source": [
        " 3.  Discuss the test performance using precision, recall and confusion matrix. **(2 marks)**"
      ]
    },
    {
      "cell_type": "code",
      "metadata": {
        "colab_type": "code",
        "id": "7GpmkeRLOOkM",
        "colab": {
          "base_uri": "https://localhost:8080/",
          "height": 50
        },
        "outputId": "4add57f4-09ad-41ec-b868-f9181080a268"
      },
      "source": [
        "from sklearn.metrics import confusion_matrix\n",
        "#Confusion matrix is obtained  \n",
        "confusion_Matrix = confusion_matrix(y_test_0_1, y_pred_new_threshold)\n",
        "print('The confusion matrix of the test is:', confusion_Matrix)"
      ],
      "execution_count": 34,
      "outputs": [
        {
          "output_type": "stream",
          "text": [
            "The confusion matrix of the test is: [[25328   255]\n",
            " [  218  3135]]\n"
          ],
          "name": "stdout"
        }
      ]
    },
    {
      "cell_type": "code",
      "metadata": {
        "id": "aGV_D6CzSD4u",
        "colab_type": "code",
        "colab": {
          "base_uri": "https://localhost:8080/",
          "height": 168
        },
        "outputId": "3b7124f6-dfa3-4dcd-a5fb-230c606b9d9a"
      },
      "source": [
        "from sklearn.metrics import classification_report\n",
        "print(classification_report(y_test_0_1, y_pred_new_threshold))"
      ],
      "execution_count": 36,
      "outputs": [
        {
          "output_type": "stream",
          "text": [
            "              precision    recall  f1-score   support\n",
            "\n",
            "           0       0.99      0.99      0.99     25583\n",
            "           1       0.92      0.93      0.93      3353\n",
            "\n",
            "    accuracy                           0.98     28936\n",
            "   macro avg       0.96      0.96      0.96     28936\n",
            "weighted avg       0.98      0.98      0.98     28936\n",
            "\n"
          ],
          "name": "stdout"
        }
      ]
    },
    {
      "cell_type": "code",
      "metadata": {
        "id": "YMJpz-nvSD4x",
        "colab_type": "code",
        "colab": {
          "base_uri": "https://localhost:8080/",
          "height": 50
        },
        "outputId": "d5be350c-905d-4bd1-c6f8-fd3bd53bace7"
      },
      "source": [
        "from sklearn.metrics import precision_score, recall_score\n",
        "#precision and recall score is found out\n",
        "precision_Score = precision_score(y_test_0_1, y_pred_new_threshold)\n",
        "print('Precision score:', precision_Score)\n",
        "\n",
        "recall_Score = recall_score(y_test_0_1, y_pred_new_threshold)\n",
        "print('Recall score:',recall_Score)"
      ],
      "execution_count": 39,
      "outputs": [
        {
          "output_type": "stream",
          "text": [
            "Precision score: 0.9247787610619469\n",
            "Recall score: 0.9349835967790039\n"
          ],
          "name": "stdout"
        }
      ]
    },
    {
      "cell_type": "markdown",
      "metadata": {
        "colab_type": "text",
        "id": "uJZCDkQcH_k6"
      },
      "source": [
        "##**Part 3: Objective function optimisation:**  **(6 marks)**"
      ]
    },
    {
      "cell_type": "markdown",
      "metadata": {
        "colab_type": "text",
        "id": "7DrSojxhXpwL"
      },
      "source": [
        "Let’s consider the line graphs shown below and answer the following questions [Hint: See weekly content 7.4-7.10],"
      ]
    },
    {
      "cell_type": "markdown",
      "metadata": {
        "colab_type": "text",
        "id": "_eGL6Jz_KJdH"
      },
      "source": [
        "<html>&nbsp;&nbsp;&nbsp;&nbsp;&nbsp;&nbsp;&nbsp;&nbsp;&nbsp;&nbsp;&nbsp;&nbsp;&nbsp;&nbsp;&nbsp;&nbsp;&nbsp;&nbsp;&nbsp;&nbsp;&nbsp;&nbsp;&nbsp;&nbsp;&nbsp;(a)&nbsp;&nbsp;&nbsp;&nbsp;&nbsp;&nbsp;&nbsp;&nbsp;&nbsp;&nbsp;&nbsp;&nbsp;&nbsp;&nbsp;&nbsp;&nbsp;&nbsp;&nbsp;&nbsp;&nbsp;&nbsp;&nbsp;&nbsp;&nbsp;&nbsp;&nbsp;&nbsp;&nbsp;&nbsp;&nbsp;&nbsp;&nbsp;&nbsp;&nbsp;&nbsp;&nbsp;&nbsp;&nbsp;&nbsp;&nbsp;&nbsp;&nbsp;&nbsp;&nbsp;&nbsp;&nbsp;&nbsp;&nbsp;&nbsp;&nbsp;&nbsp;&nbsp;&nbsp;&nbsp;&nbsp;&nbsp;&nbsp;&nbsp;&nbsp;&nbsp;(b)</html>\n",
        "\n",
        "![image.png](data:image/png;base64,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)\n",
        "\n",
        "\n"
      ]
    },
    {
      "cell_type": "markdown",
      "metadata": {
        "colab_type": "text",
        "id": "iBRBSZiqKzLh"
      },
      "source": [
        "\n",
        "a.  Which of the above figures represents the convex objective function and why? (**1 marks**)\n",
        "\n",
        "b.  Which hyper-parameter can help to reach the convergence point and the impact of value selection? (**2 marks**)\n",
        "\n",
        "c.  How can we find the global minima for the objective function shown in Figure-b? _[N.B. Conceptual description will be accepted.]_ (**3 marks**)"
      ]
    },
    {
      "cell_type": "markdown",
      "metadata": {
        "id": "HAJK6yPSOq81",
        "colab_type": "text"
      },
      "source": [
        "a) In the figure (a) there is only one optimal solution and in figure (b) there is two optimal solution, because figure (a) has the minimal optimal solution it is considered as convex objective function."
      ]
    },
    {
      "cell_type": "markdown",
      "metadata": {
        "id": "LD5qWsR7PnsT",
        "colab_type": "text"
      },
      "source": [
        "b)Learning rate (α) in the Garadient Desent is the hyper-parameter which can assist with arriving at the convergence point. smaller the learning rate higher is the exactness of the model. If learning rate is too little then the calculation will find a way to get to the base. On the off chance that learning rate is excessively huge, the calculation can miss the base point, in particular it neglects to converge.In the Worst case, it could separate from the base, which may devour an unbounded measure of time."
      ]
    },
    {
      "cell_type": "markdown",
      "metadata": {
        "id": "PcnktFcCbOjW",
        "colab_type": "text"
      },
      "source": [
        "C)Let us think about the above Assuming figure (b) as a 1D portrayal of the geography of a scene and we are remaining at peak in the figure and looking towards right. Presently on the off chance that we move the forward way and come to the downhill,we arrive at worldwide minima and in the event that we move in reverse and arrive at the declining, we arrive at neighborhood minima. \n",
        "\n",
        "So as to locate the worldwide minima for the target work appeared in Figure-b,the number of steps to be taken would be chosen by the hyper boundary 'α' (learning rate). Higher learning rate would bring about quicker coming to worldwide minima and littler learning rate would result to additional time in arriving at worldwide minima. Also, above all on the off chance that learning rate is far more bigger than expected, at that point it probably won't arrive at worldwide minima. So realizing the learning rate to be utilized and the bearing of move would bring about accomplishing worldwide minima."
      ]
    }
  ]
}