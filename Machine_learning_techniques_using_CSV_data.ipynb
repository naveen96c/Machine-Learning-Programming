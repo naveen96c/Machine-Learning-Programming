{
  "nbformat": 4,
  "nbformat_minor": 0,
  "metadata": {
    "colab": {
      "name": "Machine learning techniques using CSV data.ipynb",
      "provenance": [],
      "collapsed_sections": []
    },
    "kernelspec": {
      "display_name": "Python 3",
      "language": "python",
      "name": "python3"
    },
    "language_info": {
      "codemirror_mode": {
        "name": "ipython",
        "version": 3
      },
      "file_extension": ".py",
      "mimetype": "text/x-python",
      "name": "python",
      "nbconvert_exporter": "python",
      "pygments_lexer": "ipython3",
      "version": "3.7.6"
    }
  },
  "cells": [
    {
      "cell_type": "markdown",
      "metadata": {
        "id": "z7L7fHziCZ4C"
      },
      "source": [
        "##The dataset\n",
        "\n",
        "**Dataset file name:** chronic_kidney_disease.csv\n",
        "\n",
        "**Attribute Information:** \n",
        "\n",
        "There are 24 features + class = 25 attributes\n",
        "1.  Age(numerical): age in years\n",
        "2.Blood Pressure (numerical): bp in mm/Hg\n",
        "3.Specific Gravity (categorical): sg - (1.005,1.010,1.015,1.020,1.025)\n",
        "4.Albumin (categorical): al - (0,1,2,3,4,5)\n",
        "5.Sugar (categorical): su - (0,1,2,3,4,5)\n",
        "6.Red Blood Cells (categorial): rbc - (0, 1)\n",
        "7.Pus Cell (categorical): pc - (0, 1)\n",
        "8.Pus Cell clumps (categorical): pcc - (0, 1)\n",
        "9.Bacteria (categorical): ba - (0, 1)\n",
        "10.Blood Glucose Random (numerical): bgr in mgs/dl\n",
        "11.Blood Urea (numerical): bu in mgs/dl\n",
        "12.Serum Creatinine (numerical): sc in mgs/dl\n",
        "13.Sodium (numerical): sod in mEq/L\n",
        "14.Potassium (numerical): pot in mEq/L\n",
        "15.Hemoglobin (numerical): hemo in gms\n",
        "16.Packed Cell Volume (numerical)\n",
        "17.White Blood Cell Count (numerical): wc in cells/cumm\n",
        "18.Red Blood Cell Count (numerical): rc in millions/cmm\n",
        "19.Hypertension (categorical): htn - (0, 1)\n",
        "20.Diabetes Mellitus (categorical): dm - (0, 1)\n",
        "21.Coronary Artery Disease (categorical): cad - (0, 1)\n",
        "22.Appetite (categorical): appet - (0, 1)\n",
        "23.Pedal Edema (categorical): pe - (0, 1)\n",
        "24.Anemia (categorical): ane - (0, 1)\n",
        "25.Class (categorical): class - (ckd, notckd)\n"
      ]
    },
    {
      "cell_type": "markdown",
      "metadata": {
        "id": "7MpUbHZtMMut"
      },
      "source": [
        "Using the following four supervised machine learning methods, answer questions(A-D).\n",
        "1.   Support vector machine\n",
        "2.   K-Nearest Neighbour\n",
        "3.   Decision tree, and\n",
        "4.   Random forest\n",
        "\n",
        "**A.**  Build optimised classification model to predict the chronic kidney disease from the dataset.\n",
        "\n",
        "**B.** For each optimised model, answer the followings -\n",
        "\n",
        "*  which hyperparameters were optimised? [Hint: For SVM, kernel can be considered as one of the hyperparameters.]\n",
        "\n",
        "*  what set or range of values were used for each hyperparameter?\n",
        "\n",
        "*  which metric was used to measure the performance?\n",
        "\n",
        "*  justify your design decisions.\n",
        "\n",
        "**C.**  Plot the prediction performance against hyperparameter values to visualise the optimisation process and mark the optimal value. \n",
        "\n",
        "**D.** Evaluate the model (obtained from A) performance on the test set. Report the confusion matrix, F1-score and accuracy. "
      ]
    },
    {
      "cell_type": "code",
      "metadata": {
        "id": "6lY68lBzUPf7",
        "outputId": "5790f01e-7628-449e-d3f5-4e24ed10a814"
      },
      "source": [
        "import pandas as pd\n",
        "import numpy as np\n",
        "df=pd.read_csv(r\"C:\\Users\\61422\\Desktop\\deakin\\MACHINE LEARNING\\A5\\chronic_kidney_disease.csv\")\n",
        "df.dtypes"
      ],
      "execution_count": null,
      "outputs": [
        {
          "output_type": "execute_result",
          "data": {
            "text/plain": [
              "age       object\n",
              "bp        object\n",
              "sg        object\n",
              "al        object\n",
              "su        object\n",
              "rbc        int64\n",
              "pc         int64\n",
              "pcc        int64\n",
              "ba         int64\n",
              "bgr       object\n",
              "bu        object\n",
              "sc        object\n",
              "sod       object\n",
              "pot       object\n",
              "hemo      object\n",
              "pcv        int64\n",
              "wbcc       int64\n",
              "rbcc     float64\n",
              "htn        int64\n",
              "dm         int64\n",
              "cad        int64\n",
              "appet      int64\n",
              "pe         int64\n",
              "ane        int64\n",
              "class     object\n",
              "dtype: object"
            ]
          },
          "metadata": {
            "tags": []
          },
          "execution_count": 1
        }
      ]
    },
    {
      "cell_type": "code",
      "metadata": {
        "id": "LmIS6m0gUPf-"
      },
      "source": [
        "df = df.replace('?', '')"
      ],
      "execution_count": null,
      "outputs": []
    },
    {
      "cell_type": "code",
      "metadata": {
        "id": "77kU8AbnUPf_",
        "outputId": "8ef27a24-f4c3-4649-a443-ec9241ee42e8"
      },
      "source": [
        "for i in df.columns:\n",
        "  x = df[i].unique()\n",
        "  print(x,'__',i)"
      ],
      "execution_count": null,
      "outputs": [
        {
          "output_type": "stream",
          "text": [
            "['48' '7' '62' '51' '60' '68' '24' '52' '53' '50' '63' '40' '47' '61' '21'\n",
            " '42' '75' '69' '' '73' '70' '65' '76' '72' '82' '46' '45' '35' '54' '11'\n",
            " '59' '67' '15' '55' '44' '26' '64' '56' '5' '74' '38' '58' '71' '34' '17'\n",
            " '12' '43' '41' '57' '8' '39' '66' '81' '14' '27' '83' '30' '4' '3' '6'\n",
            " '32' '80' '49' '90' '78' '19' '2' '33' '36' '37' '23' '25' '20' '29' '28'\n",
            " '22' '79'] __ age\n",
            "['80' '50' '70' '90' '' '100' '60' '110' '140' '180' '120'] __ bp\n",
            "['1.02' '1.01' '1.005' '1.015' '' '1.025'] __ sg\n",
            "['1' '4' '2' '3' '0' '' '5'] __ al\n",
            "['0' '3' '4' '1' '' '2' '5'] __ su\n",
            "[0 1] __ rbc\n",
            "[0 1] __ pc\n",
            "[1 0] __ pcc\n",
            "[1 0] __ ba\n",
            "['121' '' '423' '117' '106' '74' '100' '410' '138' '70' '490' '380' '208'\n",
            " '98' '157' '76' '99' '114' '263' '173' '95' '108' '156' '264' '123' '93'\n",
            " '107' '159' '140' '171' '270' '92' '137' '204' '79' '207' '124' '144'\n",
            " '91' '162' '246' '253' '141' '182' '86' '150' '146' '425' '112' '250'\n",
            " '360' '163' '129' '133' '102' '158' '165' '132' '104' '127' '415' '169'\n",
            " '251' '109' '280' '210' '219' '295' '94' '172' '101' '298' '153' '88'\n",
            " '226' '143' '115' '89' '297' '233' '294' '323' '125' '90' '308' '118'\n",
            " '224' '128' '122' '214' '213' '268' '256' '84' '105' '288' '139' '78'\n",
            " '273' '242' '424' '303' '148' '160' '192' '307' '220' '447' '309' '22'\n",
            " '111' '261' '215' '234' '131' '352' '80' '239' '110' '130' '184' '252'\n",
            " '113' '230' '341' '255' '103' '238' '248' '120' '241' '269' '201' '203'\n",
            " '463' '176' '82' '119' '97' '96' '81' '116' '134' '85' '83' '87' '75'] __ bgr\n",
            "['36' '18' '53' '56' '26' '25' '54' '31' '60' '107' '55' '72' '86' '90'\n",
            " '162' '46' '87' '27' '148' '180' '163' '' '50' '75' '45' '28' '155' '33'\n",
            " '39' '153' '29' '65' '103' '70' '80' '20' '202' '77' '89' '24' '17' '32'\n",
            " '114' '66' '38' '164' '142' '96' '391' '15' '111' '73' '19' '92' '35'\n",
            " '16' '139' '48' '85' '98' '186' '37' '47' '52' '82' '51' '106' '22' '217'\n",
            " '88' '118' '50.1' '71' '34' '40' '21' '219' '30' '125' '166' '49' '208'\n",
            " '176' '68' '145' '165' '322' '23' '235' '132' '76' '42' '44' '41' '113'\n",
            " '1.5' '146' '58' '133' '137' '67' '115' '223' '98.6' '158' '94' '74'\n",
            " '150' '61' '57' '95' '191' '93' '241' '64' '79' '215' '309' '10'] __ bu\n",
            "['1.2' '0.8' '1.8' '3.8' '1.4' '1.1' '24' '1.9' '7.2' '4' '2.7' '2.1'\n",
            " '4.6' '4.1' '9.6' '2.2' '5.2' '1.3' '1.6' '3.9' '76' '7.7' '' '2.4' '7.3'\n",
            " '1.5' '2.5' '2' '3.4' '0.7' '1' '10.8' '6.3' '5.9' '0.9' '3' '3.25' '9.7'\n",
            " '6.4' '3.2' '32' '0.6' '6.1' '3.3' '6.7' '8.5' '2.8' '15' '2.9' '1.7'\n",
            " '3.6' '5.6' '6.5' '4.4' '10.2' '11.5' '0.5' '12.2' '5.3' '9.2' '13.8'\n",
            " '16.9' '6' '7.1' '18' '2.3' '13' '48.1' '14.2' '16.4' '2.6' '7.5' '4.3'\n",
            " '18.1' '11.8' '9.3' '6.8' '13.5' '12.8' '11.9' '12' '13.4' '15.2' '13.3'\n",
            " '0.4'] __ sc\n",
            "['' '111' '142' '104' '114' '131' '138' '135' '130' '141' '139' '4.5'\n",
            " '136' '129' '140' '132' '133' '134' '125' '163' '137' '128' '143' '127'\n",
            " '146' '126' '122' '147' '124' '115' '145' '113' '120' '150' '144'] __ sod\n",
            "['' '2.5' '3.2' '4' '3.7' '4.2' '5.8' '3.4' '6.4' '4.9' '4.1' '4.3' '5.2'\n",
            " '3.8' '4.6' '3.9' '4.7' '5.9' '4.8' '4.4' '6.6' '39' '5.5' '5' '3.5'\n",
            " '3.6' '7.6' '2.9' '4.5' '5.7' '5.4' '5.3' '47' '6.3' '5.1' '5.6' '3'\n",
            " '2.8' '2.7' '6.5' '3.3'] __ pot\n",
            "['15.4' '11.3' '9.6' '11.2' '11.6' '12.2' '12.4' '10.8' '9.5' '9.4' '9.7'\n",
            " '9.8' '5.6' '7.6' '12.6' '12.1' '12.7' '10.3' '7.7' '10.9' '' '11.1'\n",
            " '9.9' '12.5' '12.9' '10.1' '12' '13' '7.9' '9.3' '15' '10' '8.6' '13.6'\n",
            " '10.2' '10.5' '6.6' '11' '7.5' '15.6' '15.2' '4.8' '9.1' '8.1' '11.9'\n",
            " '13.5' '8.3' '7.1' '16.1' '10.4' '9.2' '6.2' '13.9' '14.1' '6' '11.8'\n",
            " '11.7' '11.4' '14' '8.2' '13.2' '6.1' '8' '12.3' '8.4' '14.3' '9' '8.7'\n",
            " '10.6' '13.1' '10.7' '5.5' '5.8' '6.8' '8.8' '8.5' '13.8' '11.5' '7.3'\n",
            " '13.7' '12.8' '13.4' '6.3' '3.1' '17' '15.9' '14.5' '15.5' '16.2' '14.4'\n",
            " '14.2' '16.3' '14.8' '16.5' '15.7' '13.3' '14.6' '16.4' '16.9' '16'\n",
            " '14.7' '16.6' '14.9' '16.7' '16.8' '15.8' '15.1' '17.1' '17.2' '15.3'\n",
            " '17.3' '17.4' '17.7' '17.8' '17.5' '17.6'] __ hemo\n",
            "[44 38 31 32 35 39 36 33 29 28  0 16 24 37 30 34 40 45 27 48 52 14 22 18\n",
            " 42 17 46 23 19 25 41 26 15 21 43 20 47  9 49 50 53 51 54] __ pcv\n",
            "[ 7800  6000  7500  6700  7300     0  6900  9600 12100  4500 12200 11000\n",
            "  3800 11400  5300  9200  6200  8300  8400 10300  9800  9100  7900  6400\n",
            "  8600 18900 21600  4300  8500 11300  7200  7700 14600  6300  7100 11800\n",
            "  9400  5500  5800 13200 12500  5600  7000 11900 10400 10700 12700  6800\n",
            "  6500 13600 10200  9000 14900  8200 15200  5000 16300 12400 10500  4200\n",
            "  4700 10900  8100  9500  2200 12800 11200 19100 12300 16700  2600 26400\n",
            "  8800  7400  4900  8000 12000 15700  4100  5700 11500  5400 10800  9900\n",
            "  5200  5900  9300  9700  5100  6600] __ wbcc\n",
            "[5.2 0.  3.9 4.6 4.4 5.  4.  3.7 3.8 3.4 2.6 2.8 4.3 3.2 3.6 4.1 4.9 2.5\n",
            " 4.2 4.5 3.1 4.7 3.5 6.  2.1 5.6 2.3 2.9 2.7 8.  3.3 3.  2.4 4.8 5.4 6.1\n",
            " 6.2 6.3 5.1 5.8 5.5 5.3 6.4 5.7 5.9 6.5] __ rbcc\n",
            "[0 1] __ htn\n",
            "[0 1] __ dm\n",
            "[1 0] __ cad\n",
            "[1 0] __ appet\n",
            "[1 0] __ pe\n",
            "[1 0] __ ane\n",
            "['ckd' 'notckd'] __ class\n"
          ],
          "name": "stdout"
        }
      ]
    },
    {
      "cell_type": "code",
      "metadata": {
        "id": "9RYc1dUJUPgA"
      },
      "source": [
        "df.replace('', np.nan, inplace=True)\n",
        "df1=df.replace(np.nan,0)"
      ],
      "execution_count": null,
      "outputs": []
    },
    {
      "cell_type": "code",
      "metadata": {
        "id": "kxUQEzsfUPgB",
        "outputId": "bd2dbc6d-debb-47a8-a73c-45314afeb1f7"
      },
      "source": [
        "X = df1.iloc[:, :-1]\n",
        "X"
      ],
      "execution_count": null,
      "outputs": [
        {
          "output_type": "execute_result",
          "data": {
            "text/html": [
              "<div>\n",
              "<style scoped>\n",
              "    .dataframe tbody tr th:only-of-type {\n",
              "        vertical-align: middle;\n",
              "    }\n",
              "\n",
              "    .dataframe tbody tr th {\n",
              "        vertical-align: top;\n",
              "    }\n",
              "\n",
              "    .dataframe thead th {\n",
              "        text-align: right;\n",
              "    }\n",
              "</style>\n",
              "<table border=\"1\" class=\"dataframe\">\n",
              "  <thead>\n",
              "    <tr style=\"text-align: right;\">\n",
              "      <th></th>\n",
              "      <th>age</th>\n",
              "      <th>bp</th>\n",
              "      <th>sg</th>\n",
              "      <th>al</th>\n",
              "      <th>su</th>\n",
              "      <th>rbc</th>\n",
              "      <th>pc</th>\n",
              "      <th>pcc</th>\n",
              "      <th>ba</th>\n",
              "      <th>bgr</th>\n",
              "      <th>...</th>\n",
              "      <th>hemo</th>\n",
              "      <th>pcv</th>\n",
              "      <th>wbcc</th>\n",
              "      <th>rbcc</th>\n",
              "      <th>htn</th>\n",
              "      <th>dm</th>\n",
              "      <th>cad</th>\n",
              "      <th>appet</th>\n",
              "      <th>pe</th>\n",
              "      <th>ane</th>\n",
              "    </tr>\n",
              "  </thead>\n",
              "  <tbody>\n",
              "    <tr>\n",
              "      <th>0</th>\n",
              "      <td>48</td>\n",
              "      <td>80</td>\n",
              "      <td>1.02</td>\n",
              "      <td>1</td>\n",
              "      <td>0</td>\n",
              "      <td>0</td>\n",
              "      <td>0</td>\n",
              "      <td>1</td>\n",
              "      <td>1</td>\n",
              "      <td>121</td>\n",
              "      <td>...</td>\n",
              "      <td>15.4</td>\n",
              "      <td>44</td>\n",
              "      <td>7800</td>\n",
              "      <td>5.2</td>\n",
              "      <td>0</td>\n",
              "      <td>0</td>\n",
              "      <td>1</td>\n",
              "      <td>1</td>\n",
              "      <td>1</td>\n",
              "      <td>1</td>\n",
              "    </tr>\n",
              "    <tr>\n",
              "      <th>1</th>\n",
              "      <td>7</td>\n",
              "      <td>50</td>\n",
              "      <td>1.02</td>\n",
              "      <td>4</td>\n",
              "      <td>0</td>\n",
              "      <td>0</td>\n",
              "      <td>0</td>\n",
              "      <td>1</td>\n",
              "      <td>1</td>\n",
              "      <td>0</td>\n",
              "      <td>...</td>\n",
              "      <td>11.3</td>\n",
              "      <td>38</td>\n",
              "      <td>6000</td>\n",
              "      <td>0.0</td>\n",
              "      <td>1</td>\n",
              "      <td>1</td>\n",
              "      <td>1</td>\n",
              "      <td>1</td>\n",
              "      <td>1</td>\n",
              "      <td>1</td>\n",
              "    </tr>\n",
              "    <tr>\n",
              "      <th>2</th>\n",
              "      <td>62</td>\n",
              "      <td>80</td>\n",
              "      <td>1.01</td>\n",
              "      <td>2</td>\n",
              "      <td>3</td>\n",
              "      <td>0</td>\n",
              "      <td>0</td>\n",
              "      <td>1</td>\n",
              "      <td>1</td>\n",
              "      <td>423</td>\n",
              "      <td>...</td>\n",
              "      <td>9.6</td>\n",
              "      <td>31</td>\n",
              "      <td>7500</td>\n",
              "      <td>0.0</td>\n",
              "      <td>1</td>\n",
              "      <td>0</td>\n",
              "      <td>1</td>\n",
              "      <td>0</td>\n",
              "      <td>1</td>\n",
              "      <td>0</td>\n",
              "    </tr>\n",
              "    <tr>\n",
              "      <th>3</th>\n",
              "      <td>48</td>\n",
              "      <td>70</td>\n",
              "      <td>1.005</td>\n",
              "      <td>4</td>\n",
              "      <td>0</td>\n",
              "      <td>0</td>\n",
              "      <td>1</td>\n",
              "      <td>0</td>\n",
              "      <td>1</td>\n",
              "      <td>117</td>\n",
              "      <td>...</td>\n",
              "      <td>11.2</td>\n",
              "      <td>32</td>\n",
              "      <td>6700</td>\n",
              "      <td>3.9</td>\n",
              "      <td>0</td>\n",
              "      <td>1</td>\n",
              "      <td>1</td>\n",
              "      <td>0</td>\n",
              "      <td>0</td>\n",
              "      <td>0</td>\n",
              "    </tr>\n",
              "    <tr>\n",
              "      <th>4</th>\n",
              "      <td>51</td>\n",
              "      <td>80</td>\n",
              "      <td>1.01</td>\n",
              "      <td>2</td>\n",
              "      <td>0</td>\n",
              "      <td>0</td>\n",
              "      <td>0</td>\n",
              "      <td>1</td>\n",
              "      <td>1</td>\n",
              "      <td>106</td>\n",
              "      <td>...</td>\n",
              "      <td>11.6</td>\n",
              "      <td>35</td>\n",
              "      <td>7300</td>\n",
              "      <td>4.6</td>\n",
              "      <td>1</td>\n",
              "      <td>1</td>\n",
              "      <td>1</td>\n",
              "      <td>1</td>\n",
              "      <td>1</td>\n",
              "      <td>1</td>\n",
              "    </tr>\n",
              "    <tr>\n",
              "      <th>...</th>\n",
              "      <td>...</td>\n",
              "      <td>...</td>\n",
              "      <td>...</td>\n",
              "      <td>...</td>\n",
              "      <td>...</td>\n",
              "      <td>...</td>\n",
              "      <td>...</td>\n",
              "      <td>...</td>\n",
              "      <td>...</td>\n",
              "      <td>...</td>\n",
              "      <td>...</td>\n",
              "      <td>...</td>\n",
              "      <td>...</td>\n",
              "      <td>...</td>\n",
              "      <td>...</td>\n",
              "      <td>...</td>\n",
              "      <td>...</td>\n",
              "      <td>...</td>\n",
              "      <td>...</td>\n",
              "      <td>...</td>\n",
              "      <td>...</td>\n",
              "    </tr>\n",
              "    <tr>\n",
              "      <th>395</th>\n",
              "      <td>55</td>\n",
              "      <td>80</td>\n",
              "      <td>1.02</td>\n",
              "      <td>0</td>\n",
              "      <td>0</td>\n",
              "      <td>0</td>\n",
              "      <td>0</td>\n",
              "      <td>1</td>\n",
              "      <td>1</td>\n",
              "      <td>140</td>\n",
              "      <td>...</td>\n",
              "      <td>15.7</td>\n",
              "      <td>47</td>\n",
              "      <td>6700</td>\n",
              "      <td>4.9</td>\n",
              "      <td>1</td>\n",
              "      <td>1</td>\n",
              "      <td>1</td>\n",
              "      <td>1</td>\n",
              "      <td>1</td>\n",
              "      <td>1</td>\n",
              "    </tr>\n",
              "    <tr>\n",
              "      <th>396</th>\n",
              "      <td>42</td>\n",
              "      <td>70</td>\n",
              "      <td>1.025</td>\n",
              "      <td>0</td>\n",
              "      <td>0</td>\n",
              "      <td>0</td>\n",
              "      <td>0</td>\n",
              "      <td>1</td>\n",
              "      <td>1</td>\n",
              "      <td>75</td>\n",
              "      <td>...</td>\n",
              "      <td>16.5</td>\n",
              "      <td>54</td>\n",
              "      <td>7800</td>\n",
              "      <td>6.2</td>\n",
              "      <td>1</td>\n",
              "      <td>1</td>\n",
              "      <td>1</td>\n",
              "      <td>1</td>\n",
              "      <td>1</td>\n",
              "      <td>1</td>\n",
              "    </tr>\n",
              "    <tr>\n",
              "      <th>397</th>\n",
              "      <td>12</td>\n",
              "      <td>80</td>\n",
              "      <td>1.02</td>\n",
              "      <td>0</td>\n",
              "      <td>0</td>\n",
              "      <td>0</td>\n",
              "      <td>0</td>\n",
              "      <td>1</td>\n",
              "      <td>1</td>\n",
              "      <td>100</td>\n",
              "      <td>...</td>\n",
              "      <td>15.8</td>\n",
              "      <td>49</td>\n",
              "      <td>6600</td>\n",
              "      <td>5.4</td>\n",
              "      <td>1</td>\n",
              "      <td>1</td>\n",
              "      <td>1</td>\n",
              "      <td>1</td>\n",
              "      <td>1</td>\n",
              "      <td>1</td>\n",
              "    </tr>\n",
              "    <tr>\n",
              "      <th>398</th>\n",
              "      <td>17</td>\n",
              "      <td>60</td>\n",
              "      <td>1.025</td>\n",
              "      <td>0</td>\n",
              "      <td>0</td>\n",
              "      <td>0</td>\n",
              "      <td>0</td>\n",
              "      <td>1</td>\n",
              "      <td>1</td>\n",
              "      <td>114</td>\n",
              "      <td>...</td>\n",
              "      <td>14.2</td>\n",
              "      <td>51</td>\n",
              "      <td>7200</td>\n",
              "      <td>5.9</td>\n",
              "      <td>1</td>\n",
              "      <td>1</td>\n",
              "      <td>1</td>\n",
              "      <td>1</td>\n",
              "      <td>1</td>\n",
              "      <td>1</td>\n",
              "    </tr>\n",
              "    <tr>\n",
              "      <th>399</th>\n",
              "      <td>58</td>\n",
              "      <td>80</td>\n",
              "      <td>1.025</td>\n",
              "      <td>0</td>\n",
              "      <td>0</td>\n",
              "      <td>0</td>\n",
              "      <td>0</td>\n",
              "      <td>1</td>\n",
              "      <td>1</td>\n",
              "      <td>131</td>\n",
              "      <td>...</td>\n",
              "      <td>15.8</td>\n",
              "      <td>53</td>\n",
              "      <td>6800</td>\n",
              "      <td>6.1</td>\n",
              "      <td>1</td>\n",
              "      <td>1</td>\n",
              "      <td>1</td>\n",
              "      <td>1</td>\n",
              "      <td>1</td>\n",
              "      <td>1</td>\n",
              "    </tr>\n",
              "  </tbody>\n",
              "</table>\n",
              "<p>400 rows × 24 columns</p>\n",
              "</div>"
            ],
            "text/plain": [
              "    age  bp     sg al su  rbc  pc  pcc  ba  bgr  ...  hemo pcv  wbcc rbcc htn  \\\n",
              "0    48  80   1.02  1  0    0   0    1   1  121  ...  15.4  44  7800  5.2   0   \n",
              "1     7  50   1.02  4  0    0   0    1   1    0  ...  11.3  38  6000  0.0   1   \n",
              "2    62  80   1.01  2  3    0   0    1   1  423  ...   9.6  31  7500  0.0   1   \n",
              "3    48  70  1.005  4  0    0   1    0   1  117  ...  11.2  32  6700  3.9   0   \n",
              "4    51  80   1.01  2  0    0   0    1   1  106  ...  11.6  35  7300  4.6   1   \n",
              "..   ..  ..    ... .. ..  ...  ..  ...  ..  ...  ...   ...  ..   ...  ...  ..   \n",
              "395  55  80   1.02  0  0    0   0    1   1  140  ...  15.7  47  6700  4.9   1   \n",
              "396  42  70  1.025  0  0    0   0    1   1   75  ...  16.5  54  7800  6.2   1   \n",
              "397  12  80   1.02  0  0    0   0    1   1  100  ...  15.8  49  6600  5.4   1   \n",
              "398  17  60  1.025  0  0    0   0    1   1  114  ...  14.2  51  7200  5.9   1   \n",
              "399  58  80  1.025  0  0    0   0    1   1  131  ...  15.8  53  6800  6.1   1   \n",
              "\n",
              "     dm  cad  appet  pe  ane  \n",
              "0     0    1      1   1    1  \n",
              "1     1    1      1   1    1  \n",
              "2     0    1      0   1    0  \n",
              "3     1    1      0   0    0  \n",
              "4     1    1      1   1    1  \n",
              "..   ..  ...    ...  ..  ...  \n",
              "395   1    1      1   1    1  \n",
              "396   1    1      1   1    1  \n",
              "397   1    1      1   1    1  \n",
              "398   1    1      1   1    1  \n",
              "399   1    1      1   1    1  \n",
              "\n",
              "[400 rows x 24 columns]"
            ]
          },
          "metadata": {
            "tags": []
          },
          "execution_count": 6
        }
      ]
    },
    {
      "cell_type": "code",
      "metadata": {
        "id": "vkaEOTNrUPgC"
      },
      "source": [
        "y = df1.iloc[:,-1:]\n",
        "y=y.replace(to_replace =\"ckd\", \n",
        "                 value =1) \n",
        "y=y.replace(to_replace =\"notckd\", \n",
        "                 value =0) "
      ],
      "execution_count": null,
      "outputs": []
    },
    {
      "cell_type": "code",
      "metadata": {
        "id": "vqi0z6BxUPgC"
      },
      "source": [
        "from sklearn.model_selection import train_test_split\n",
        "X_train, X_test, y_train, y_test = train_test_split(X, y, test_size=0.30,random_state=109)"
      ],
      "execution_count": null,
      "outputs": []
    },
    {
      "cell_type": "code",
      "metadata": {
        "id": "wpWePPB-UPgD"
      },
      "source": [
        "from sklearn.preprocessing import StandardScaler\n",
        "s_s= StandardScaler()\n",
        "\n",
        "X_train= s_s.fit_transform(X_train)\n",
        "X_test= s_s.transform(X_test)"
      ],
      "execution_count": null,
      "outputs": []
    },
    {
      "cell_type": "markdown",
      "metadata": {
        "id": "LVoPQlp1UPgE"
      },
      "source": [
        "# SVM"
      ]
    },
    {
      "cell_type": "code",
      "metadata": {
        "id": "ynkuQgkrUPgF",
        "outputId": "db01056e-bc6c-4ac0-fff5-78e6aab62a77"
      },
      "source": [
        "from sklearn import svm, datasets\n",
        "from sklearn.model_selection import GridSearchCV\n",
        "parameters = {'kernel':['linear','poly','rbf'], 'C':[1, 10],'class_weight':['dict','balanced'],'gamma':['scale','auto']}\n",
        "svc = svm.SVC()\n",
        "clf_svm = GridSearchCV(svc, parameters,scoring='accuracy')\n",
        "clf_svm.fit(X_train, y_train)"
      ],
      "execution_count": null,
      "outputs": [
        {
          "output_type": "execute_result",
          "data": {
            "text/plain": [
              "GridSearchCV(cv=None, error_score=nan,\n",
              "             estimator=SVC(C=1.0, break_ties=False, cache_size=200,\n",
              "                           class_weight=None, coef0=0.0,\n",
              "                           decision_function_shape='ovr', degree=3,\n",
              "                           gamma='scale', kernel='rbf', max_iter=-1,\n",
              "                           probability=False, random_state=None, shrinking=True,\n",
              "                           tol=0.001, verbose=False),\n",
              "             iid='deprecated', n_jobs=None,\n",
              "             param_grid={'C': [1, 10], 'class_weight': ['dict', 'balanced'],\n",
              "                         'gamma': ['scale', 'auto'],\n",
              "                         'kernel': ['linear', 'poly', 'rbf']},\n",
              "             pre_dispatch='2*n_jobs', refit=True, return_train_score=False,\n",
              "             scoring='accuracy', verbose=0)"
            ]
          },
          "metadata": {
            "tags": []
          },
          "execution_count": 213
        }
      ]
    },
    {
      "cell_type": "code",
      "metadata": {
        "id": "9f7zUmDQUPgG",
        "outputId": "5e0cef43-c91e-4089-c567-7eb4a85b15f1"
      },
      "source": [
        "print(\"\",clf_svm.best_estimator_)\n",
        "print(\"\",clf_svm.best_score_)\n",
        "print(\"\",clf_svm.best_params_)\n",
        "print(\"\",clf_svm.best_index_)"
      ],
      "execution_count": null,
      "outputs": [
        {
          "output_type": "stream",
          "text": [
            " SVC(C=10, break_ties=False, cache_size=200, class_weight='balanced', coef0=0.0,\n",
            "    decision_function_shape='ovr', degree=3, gamma='scale', kernel='rbf',\n",
            "    max_iter=-1, probability=False, random_state=None, shrinking=True,\n",
            "    tol=0.001, verbose=False)\n",
            " 0.9714285714285713\n",
            " {'C': 10, 'class_weight': 'balanced', 'gamma': 'scale', 'kernel': 'rbf'}\n",
            " 20\n"
          ],
          "name": "stdout"
        }
      ]
    },
    {
      "cell_type": "code",
      "metadata": {
        "id": "-abO_7PEUPgG",
        "outputId": "bd71b376-85e4-458a-cd54-8e937f0b05b4"
      },
      "source": [
        "y_pred_svm = clf_svm.predict(X_test)\n",
        "print(\"\",metrics.classification_report(y_test, y_pred_svm))\n",
        "metrics.confusion_matrix(y_test, y_pred_svm)\n",
        "sciplt.metrics.plot_confusion_matrix(y_test, y_pred_svm,figsize=(10,10))"
      ],
      "execution_count": null,
      "outputs": [
        {
          "output_type": "stream",
          "text": [
            "               precision    recall  f1-score   support\n",
            "\n",
            "           0       0.96      0.98      0.97        44\n",
            "           1       0.99      0.97      0.98        76\n",
            "\n",
            "    accuracy                           0.97       120\n",
            "   macro avg       0.97      0.98      0.97       120\n",
            "weighted avg       0.98      0.97      0.98       120\n",
            "\n"
          ],
          "name": "stdout"
        },
        {
          "output_type": "execute_result",
          "data": {
            "text/plain": [
              "<matplotlib.axes._subplots.AxesSubplot at 0x228c9133608>"
            ]
          },
          "metadata": {
            "tags": []
          },
          "execution_count": 215
        },
        {
          "output_type": "display_data",
          "data": {
            "image/png": "[encoded data removed]",
            "text/plain": [
              "<Figure size 720x720 with 2 Axes>"
            ]
          },
          "metadata": {
            "tags": [],
            "needs_background": "light"
          }
        }
      ]
    },
    {
      "cell_type": "markdown",
      "metadata": {
        "id": "77bl8OSlUPgH"
      },
      "source": [
        "#  KNN\n"
      ]
    },
    {
      "cell_type": "code",
      "metadata": {
        "id": "nP0VTFHhUPgI"
      },
      "source": [
        "#List Hyperparameters that we want to tune.\n",
        "leaf_size = list(range(1,50))\n",
        "n_neighbors = list(range(1,30))\n",
        "p=[1,2]\n",
        "#Convert to dictionary\n",
        "hyperparameters = dict(leaf_size=leaf_size, n_neighbors=n_neighbors, p=p)\n",
        "#Create new KNN object\n",
        "knn_2 = KNeighborsClassifier()\n",
        "#Use GridSearch\n",
        "clf_knn = GridSearchCV(knn_2, hyperparameters, cv=10)\n",
        "#Fit the model\n",
        "Knn_model = clf_knn.fit(X_train, y_train)"
      ],
      "execution_count": null,
      "outputs": []
    },
    {
      "cell_type": "code",
      "metadata": {
        "id": "nOUjyKfsUPgI",
        "outputId": "2a474587-04aa-4954-a8d1-d6fd294627d6"
      },
      "source": [
        "print(\"\",Knn_model.best_estimator_)\n",
        "print(\"\",Knn_model.best_score_)\n",
        "print(\"\",Knn_model.best_params_)\n",
        "print(\"\",Knn_model.best_index_)"
      ],
      "execution_count": null,
      "outputs": [
        {
          "output_type": "stream",
          "text": [
            " KNeighborsClassifier(algorithm='auto', leaf_size=1, metric='minkowski',\n",
            "                     metric_params=None, n_jobs=None, n_neighbors=1, p=1,\n",
            "                     weights='uniform')\n",
            " 0.9392857142857144\n",
            " {'leaf_size': 1, 'n_neighbors': 1, 'p': 1}\n",
            " 0\n"
          ],
          "name": "stdout"
        }
      ]
    },
    {
      "cell_type": "code",
      "metadata": {
        "id": "HqsX_nGiUPgI",
        "outputId": "b27772bd-72cd-4e29-a36b-d03a4dbd1ca7"
      },
      "source": [
        "import scikitplot as sciplt\n",
        "y_pred_knn = Knn_model.predict(X_test)\n",
        "print(\"\",metrics.classification_report(y_test,y_pred_knn))\n",
        "metrics.confusion_matrix(y_test, y_pred_knn)\n",
        "sciplt.metrics.plot_confusion_matrix(y_test, y_pred_knn,figsize=(10,10))"
      ],
      "execution_count": null,
      "outputs": [
        {
          "output_type": "stream",
          "text": [
            "               precision    recall  f1-score   support\n",
            "\n",
            "           0       0.88      1.00      0.94        44\n",
            "           1       1.00      0.92      0.96        76\n",
            "\n",
            "    accuracy                           0.95       120\n",
            "   macro avg       0.94      0.96      0.95       120\n",
            "weighted avg       0.96      0.95      0.95       120\n",
            "\n"
          ],
          "name": "stdout"
        },
        {
          "output_type": "execute_result",
          "data": {
            "text/plain": [
              "<matplotlib.axes._subplots.AxesSubplot at 0x228c7e64d88>"
            ]
          },
          "metadata": {
            "tags": []
          },
          "execution_count": 179
        },
        {
          "output_type": "display_data",
          "data": {
            "image/png": "[encoded data removed]",
            "text/plain": [
              "<Figure size 720x720 with 2 Axes>"
            ]
          },
          "metadata": {
            "tags": [],
            "needs_background": "light"
          }
        }
      ]
    },
    {
      "cell_type": "markdown",
      "metadata": {
        "id": "BNppCnGfUPgJ"
      },
      "source": [
        "# DECISION TREE\n"
      ]
    },
    {
      "cell_type": "code",
      "metadata": {
        "id": "j2KgqeC3UPgJ",
        "outputId": "6bb949d0-46fe-41a1-ad0d-367a5818ed20"
      },
      "source": [
        "from sklearn.tree import DecisionTreeClassifier\n",
        "from sklearn.model_selection import GridSearchCV\n",
        "params = {'max_leaf_nodes': list(range(2, 100)), 'min_samples_split': list(range(2,6)),'class_weight':['dict','balanced']}\n",
        "DT_model = GridSearchCV(DecisionTreeClassifier(random_state=109), params, verbose=1, cv=10,scoring='accuracy')\n",
        "DT_model.fit(X_train, y_train)"
      ],
      "execution_count": null,
      "outputs": [
        {
          "output_type": "stream",
          "text": [
            "Fitting 10 folds for each of 784 candidates, totalling 7840 fits\n"
          ],
          "name": "stdout"
        },
        {
          "output_type": "stream",
          "text": [
            "[Parallel(n_jobs=1)]: Using backend SequentialBackend with 1 concurrent workers.\n",
            "[Parallel(n_jobs=1)]: Done 7840 out of 7840 | elapsed:   40.6s finished\n"
          ],
          "name": "stderr"
        },
        {
          "output_type": "execute_result",
          "data": {
            "text/plain": [
              "GridSearchCV(cv=10, error_score=nan,\n",
              "             estimator=DecisionTreeClassifier(ccp_alpha=0.0, class_weight=None,\n",
              "                                              criterion='gini', max_depth=None,\n",
              "                                              max_features=None,\n",
              "                                              max_leaf_nodes=None,\n",
              "                                              min_impurity_decrease=0.0,\n",
              "                                              min_impurity_split=None,\n",
              "                                              min_samples_leaf=1,\n",
              "                                              min_samples_split=2,\n",
              "                                              min_weight_fraction_leaf=0.0,\n",
              "                                              presort='deprecated',\n",
              "                                              random_state=109,\n",
              "                                              splitter='best'),\n",
              "             iid='deprecated', n_jobs=None,\n",
              "             param_grid={'class_weight': ['dict', 'balanced'],\n",
              "                         'max_leaf_nodes': [2, 3, 4, 5, 6, 7, 8, 9, 10, 11, 12,\n",
              "                                            13, 14, 15, 16, 17, 18, 19, 20, 21,\n",
              "                                            22, 23, 24, 25, 26, 27, 28, 29, 30,\n",
              "                                            31, ...],\n",
              "                         'min_samples_split': [2, 3, 4, 5]},\n",
              "             pre_dispatch='2*n_jobs', refit=True, return_train_score=False,\n",
              "             scoring='accuracy', verbose=1)"
            ]
          },
          "metadata": {
            "tags": []
          },
          "execution_count": 204
        }
      ]
    },
    {
      "cell_type": "code",
      "metadata": {
        "id": "gvms2HsWUPgK",
        "outputId": "d7675e22-0d1f-440b-b56c-a15a91497720"
      },
      "source": [
        "print(\"\",DT_model.best_estimator_)\n",
        "print(\"\",DT_model.best_score_)\n",
        "print(\"\",DT_model.best_params_)\n",
        "print(\"\",DT_model.best_index_)"
      ],
      "execution_count": null,
      "outputs": [
        {
          "output_type": "stream",
          "text": [
            " DecisionTreeClassifier(ccp_alpha=0.0, class_weight='balanced', criterion='gini',\n",
            "                       max_depth=None, max_features=None, max_leaf_nodes=4,\n",
            "                       min_impurity_decrease=0.0, min_impurity_split=None,\n",
            "                       min_samples_leaf=1, min_samples_split=2,\n",
            "                       min_weight_fraction_leaf=0.0, presort='deprecated',\n",
            "                       random_state=109, splitter='best')\n",
            " 0.9535714285714285\n",
            " {'class_weight': 'balanced', 'max_leaf_nodes': 4, 'min_samples_split': 2}\n",
            " 400\n"
          ],
          "name": "stdout"
        }
      ]
    },
    {
      "cell_type": "code",
      "metadata": {
        "id": "MlKkkYmGUPgK",
        "outputId": "17c0bdc6-34ff-49bf-c07f-02a4a5bc8c93"
      },
      "source": [
        "y_pred_DT = DT_model.predict(X_test)\n",
        "print(\"\",metrics.classification_report(y_test, y_pred_DT))\n",
        "sciplt.metrics.plot_confusion_matrix(y_test, y_pred_DT,figsize=(10,10))"
      ],
      "execution_count": null,
      "outputs": [
        {
          "output_type": "stream",
          "text": [
            "               precision    recall  f1-score   support\n",
            "\n",
            "           0       0.91      0.98      0.95        44\n",
            "           1       0.99      0.95      0.97        76\n",
            "\n",
            "    accuracy                           0.96       120\n",
            "   macro avg       0.95      0.96      0.96       120\n",
            "weighted avg       0.96      0.96      0.96       120\n",
            "\n"
          ],
          "name": "stdout"
        },
        {
          "output_type": "execute_result",
          "data": {
            "text/plain": [
              "<matplotlib.axes._subplots.AxesSubplot at 0x228c5923c88>"
            ]
          },
          "metadata": {
            "tags": []
          },
          "execution_count": 206
        },
        {
          "output_type": "display_data",
          "data": {
            "image/png": "[encoded data removed]",
            "text/plain": [
              "<Figure size 720x720 with 2 Axes>"
            ]
          },
          "metadata": {
            "tags": [],
            "needs_background": "light"
          }
        }
      ]
    },
    {
      "cell_type": "code",
      "metadata": {
        "id": "QKQPtM1mUPgL",
        "outputId": "35c3e245-428d-4bc2-a473-8640c8a3c38a"
      },
      "source": [
        "metrics.confusion_matrix(y_test, y_pred_DT)"
      ],
      "execution_count": null,
      "outputs": [
        {
          "output_type": "execute_result",
          "data": {
            "text/plain": [
              "array([[43,  1],\n",
              "       [ 4, 72]], dtype=int64)"
            ]
          },
          "metadata": {
            "tags": []
          },
          "execution_count": 229
        }
      ]
    },
    {
      "cell_type": "markdown",
      "metadata": {
        "id": "0WnQP5W7UPgM"
      },
      "source": [
        "# RANDOM FOREST"
      ]
    },
    {
      "cell_type": "code",
      "metadata": {
        "id": "bBZpKR9lUPgN",
        "outputId": "ebd15a85-bb54-4e3c-8640-df6b587029c0"
      },
      "source": [
        "from sklearn.model_selection import GridSearchCV\n",
        "from sklearn.ensemble import RandomForestClassifier\n",
        "# Create the parameter grid based on the results of random search \n",
        "param_grid = {\n",
        "    'max_depth': [80, 100, 120],\n",
        "    'min_samples_leaf': [3, 4, 5, 6],\n",
        "    'min_samples_split': [8, 10, 12, 14],\n",
        "    'n_estimators': [100, 200, 300]\n",
        "}\n",
        "# Create a based model\n",
        "rf = RandomForestClassifier()\n",
        "# Instantiate the grid search model\n",
        "rf_model = GridSearchCV(estimator = rf, param_grid = param_grid, \n",
        "                          n_jobs=-1,cv = 10,scoring='accuracy')\n",
        "rf_model.fit(X_train,y_train)"
      ],
      "execution_count": null,
      "outputs": [
        {
          "output_type": "execute_result",
          "data": {
            "text/plain": [
              "GridSearchCV(cv=10, error_score=nan,\n",
              "             estimator=RandomForestClassifier(bootstrap=True, ccp_alpha=0.0,\n",
              "                                              class_weight=None,\n",
              "                                              criterion='gini', max_depth=None,\n",
              "                                              max_features='auto',\n",
              "                                              max_leaf_nodes=None,\n",
              "                                              max_samples=None,\n",
              "                                              min_impurity_decrease=0.0,\n",
              "                                              min_impurity_split=None,\n",
              "                                              min_samples_leaf=1,\n",
              "                                              min_samples_split=2,\n",
              "                                              min_weight_fraction_leaf=0.0,\n",
              "                                              n_estimators=100, n_jobs=None,\n",
              "                                              oob_score=False,\n",
              "                                              random_state=None, verbose=0,\n",
              "                                              warm_start=False),\n",
              "             iid='deprecated', n_jobs=-1,\n",
              "             param_grid={'max_depth': [80, 100, 120],\n",
              "                         'min_samples_leaf': [3, 4, 5, 6],\n",
              "                         'min_samples_split': [8, 10, 12, 14],\n",
              "                         'n_estimators': [100, 200, 300]},\n",
              "             pre_dispatch='2*n_jobs', refit=True, return_train_score=False,\n",
              "             scoring='accuracy', verbose=0)"
            ]
          },
          "metadata": {
            "tags": []
          },
          "execution_count": 226
        }
      ]
    },
    {
      "cell_type": "code",
      "metadata": {
        "id": "5hXCOBLnUPgN",
        "outputId": "2215b221-0cd2-45b2-9aae-79ca876ab1f0"
      },
      "source": [
        "print(\"\",rf_model.best_estimator_)\n",
        "print(\"\",rf_model.best_score_)\n",
        "print(\"\",rf_model.best_params_)\n",
        "print(\"\",rf_model.best_index_)"
      ],
      "execution_count": null,
      "outputs": [
        {
          "output_type": "stream",
          "text": [
            " RandomForestClassifier(bootstrap=True, ccp_alpha=0.0, class_weight=None,\n",
            "                       criterion='gini', max_depth=120, max_features='auto',\n",
            "                       max_leaf_nodes=None, max_samples=None,\n",
            "                       min_impurity_decrease=0.0, min_impurity_split=None,\n",
            "                       min_samples_leaf=3, min_samples_split=12,\n",
            "                       min_weight_fraction_leaf=0.0, n_estimators=100,\n",
            "                       n_jobs=None, oob_score=False, random_state=None,\n",
            "                       verbose=0, warm_start=False)\n",
            " 0.9892857142857142\n",
            " {'max_depth': 120, 'min_samples_leaf': 3, 'min_samples_split': 12, 'n_estimators': 100}\n",
            " 102\n"
          ],
          "name": "stdout"
        }
      ]
    },
    {
      "cell_type": "code",
      "metadata": {
        "id": "44PcpYosUPgN",
        "outputId": "e1094e29-0ec0-49c8-c38a-bea442ead2ef"
      },
      "source": [
        "y_pred_rf = rf_model.predict(X_test)\n",
        "print(\"\",metrics.classification_report(y_test, y_pred_rf))\n",
        "print(\"\",metrics.accuracy_score(y_test,y_pred_rf))\n",
        "metrics.confusion_matrix(y_test, y_pred_rf)\n",
        "sciplt.metrics.plot_confusion_matrix(y_test, y_pred_rf,figsize=(10,10))"
      ],
      "execution_count": null,
      "outputs": [
        {
          "output_type": "stream",
          "text": [
            "               precision    recall  f1-score   support\n",
            "\n",
            "           0       1.00      0.98      0.99        44\n",
            "           1       0.99      1.00      0.99        76\n",
            "\n",
            "    accuracy                           0.99       120\n",
            "   macro avg       0.99      0.99      0.99       120\n",
            "weighted avg       0.99      0.99      0.99       120\n",
            "\n",
            " 0.9916666666666667\n"
          ],
          "name": "stdout"
        },
        {
          "output_type": "execute_result",
          "data": {
            "text/plain": [
              "<matplotlib.axes._subplots.AxesSubplot at 0x228c7503888>"
            ]
          },
          "metadata": {
            "tags": []
          },
          "execution_count": 228
        },
        {
          "output_type": "display_data",
          "data": {
            "image/png": "[encoded data removed]",
            "text/plain": [
              "<Figure size 720x720 with 2 Axes>"
            ]
          },
          "metadata": {
            "tags": [],
            "needs_background": "light"
          }
        }
      ]
    }
  ]
}