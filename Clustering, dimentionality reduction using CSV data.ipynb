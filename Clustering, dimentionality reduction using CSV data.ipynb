{
  "nbformat": 4,
  "nbformat_minor": 0,
  "metadata": {
    "kernelspec": {
      "display_name": "Python 3",
      "language": "python",
      "name": "python3"
    },
    "language_info": {
      "codemirror_mode": {
        "name": "ipython",
        "version": 3
      },
      "file_extension": ".py",
      "mimetype": "text/x-python",
      "name": "python",
      "nbconvert_exporter": "python",
      "pygments_lexer": "ipython3",
      "version": "3.7.6"
    },
    "colab": {
      "name": "A2.ipynb",
      "provenance": [],
      "collapsed_sections": [],
      "toc_visible": true
    }
  },
  "cells": [
    {
      "cell_type": "markdown",
      "metadata": {
        "id": "06bbe_5WGk3v",
        "colab_type": "text"
      },
      "source": [
        "#**SIT 720 - Machine Learning**\n",
        "\n",
        "Lecturer: Chandan Karmakar | karmakar@deakin.edu.au\n",
        "\n",
        "School of Information Technology,\n",
        "<br/>Deakin University, VIC 3125, Australia."
      ]
    },
    {
      "cell_type": "markdown",
      "metadata": {
        "id": "es6VJF6zGpZi",
        "colab_type": "text"
      },
      "source": [
        "#**Assessment Task 2 (30 marks)**\n",
        "\n",
        "##**Submission Instruction**\n",
        "1.  Student should insert Python code or text responses into the cell followed by the question.\n",
        "\n",
        "2.  For answers regarding discussion or explanation, **maximum five sentences are suggested**.\n",
        "\n",
        "3.  Rename this notebook file appending your student ID. For example, for student ID 1234, the submitted file name should be A2_1234.ipynb.\n",
        "\n",
        "4.  Insert your student ID and name in the following cell."
      ]
    },
    {
      "cell_type": "code",
      "metadata": {
        "id": "IeD67KEpG8I6",
        "colab_type": "code",
        "colab": {}
      },
      "source": [
        "# Student ID: 219155861\n",
        "\n",
        "# Student name: Naveen Chuka Radhakrishna"
      ],
      "execution_count": null,
      "outputs": []
    },
    {
      "cell_type": "markdown",
      "metadata": {
        "id": "oYFXM_D7HCHb",
        "colab_type": "text"
      },
      "source": [
        "## Part 1: Clustering *(15 marks)*\n",
        "\n",
        "Let's assume you want to design an environment to predict a class/category from a dataset based on specific features of that class. However, all the features are not strong enough or in other words features not that much variance/uniqueness across the classes. So, you have to design a clustering model by answering the following questions:\n",
        "\n",
        "1. Download the attached clustering.csv file. Read the file and separate the class and feature matrix. __(2 marks)__"
      ]
    },
    {
      "cell_type": "code",
      "metadata": {
        "id": "crKN9O9jKi4w",
        "colab_type": "code",
        "colab": {
          "base_uri": "https://localhost:8080/",
          "height": 402
        },
        "outputId": "df85f660-2f69-4979-c86a-923a77b477f0"
      },
      "source": [
        "# INSERT your code (or comment) here\n",
        "import pandas as pd\n",
        "import numpy as np\n",
        "# read csv file\n",
        "clustering_Data= pd.read_csv(\"/content/sample_data/clustering.csv\")\n",
        "#Getting Class column \n",
        "class_Data=clustering_Data['Class']\n",
        "#removing Class column\n",
        "feature_Matrix= clustering_Data.drop(['Class'], axis=1)\n",
        "feature_Matrix"
      ],
      "execution_count": 110,
      "outputs": [
        {
          "output_type": "execute_result",
          "data": {
            "text/html": [
              "<div>\n",
              "<style scoped>\n",
              "    .dataframe tbody tr th:only-of-type {\n",
              "        vertical-align: middle;\n",
              "    }\n",
              "\n",
              "    .dataframe tbody tr th {\n",
              "        vertical-align: top;\n",
              "    }\n",
              "\n",
              "    .dataframe thead th {\n",
              "        text-align: right;\n",
              "    }\n",
              "</style>\n",
              "<table border=\"1\" class=\"dataframe\">\n",
              "  <thead>\n",
              "    <tr style=\"text-align: right;\">\n",
              "      <th></th>\n",
              "      <th>height</th>\n",
              "      <th>length</th>\n",
              "      <th>width</th>\n",
              "      <th>std</th>\n",
              "      <th>min</th>\n",
              "      <th>max</th>\n",
              "      <th>kurtosis</th>\n",
              "    </tr>\n",
              "  </thead>\n",
              "  <tbody>\n",
              "    <tr>\n",
              "      <th>0</th>\n",
              "      <td>15.26</td>\n",
              "      <td>14.84</td>\n",
              "      <td>0.8710</td>\n",
              "      <td>5.763</td>\n",
              "      <td>3.312</td>\n",
              "      <td>2.221</td>\n",
              "      <td>5.220</td>\n",
              "    </tr>\n",
              "    <tr>\n",
              "      <th>1</th>\n",
              "      <td>14.88</td>\n",
              "      <td>14.57</td>\n",
              "      <td>0.8811</td>\n",
              "      <td>5.554</td>\n",
              "      <td>3.333</td>\n",
              "      <td>1.018</td>\n",
              "      <td>4.956</td>\n",
              "    </tr>\n",
              "    <tr>\n",
              "      <th>2</th>\n",
              "      <td>14.29</td>\n",
              "      <td>14.09</td>\n",
              "      <td>0.9050</td>\n",
              "      <td>5.291</td>\n",
              "      <td>3.337</td>\n",
              "      <td>2.699</td>\n",
              "      <td>4.825</td>\n",
              "    </tr>\n",
              "    <tr>\n",
              "      <th>3</th>\n",
              "      <td>13.84</td>\n",
              "      <td>13.94</td>\n",
              "      <td>0.8955</td>\n",
              "      <td>5.324</td>\n",
              "      <td>3.379</td>\n",
              "      <td>2.259</td>\n",
              "      <td>4.805</td>\n",
              "    </tr>\n",
              "    <tr>\n",
              "      <th>4</th>\n",
              "      <td>16.14</td>\n",
              "      <td>14.99</td>\n",
              "      <td>0.9034</td>\n",
              "      <td>5.658</td>\n",
              "      <td>3.562</td>\n",
              "      <td>1.355</td>\n",
              "      <td>5.175</td>\n",
              "    </tr>\n",
              "    <tr>\n",
              "      <th>...</th>\n",
              "      <td>...</td>\n",
              "      <td>...</td>\n",
              "      <td>...</td>\n",
              "      <td>...</td>\n",
              "      <td>...</td>\n",
              "      <td>...</td>\n",
              "      <td>...</td>\n",
              "    </tr>\n",
              "    <tr>\n",
              "      <th>205</th>\n",
              "      <td>12.19</td>\n",
              "      <td>13.20</td>\n",
              "      <td>0.8783</td>\n",
              "      <td>5.137</td>\n",
              "      <td>2.981</td>\n",
              "      <td>3.631</td>\n",
              "      <td>4.870</td>\n",
              "    </tr>\n",
              "    <tr>\n",
              "      <th>206</th>\n",
              "      <td>11.23</td>\n",
              "      <td>12.88</td>\n",
              "      <td>0.8511</td>\n",
              "      <td>5.140</td>\n",
              "      <td>2.795</td>\n",
              "      <td>4.325</td>\n",
              "      <td>5.003</td>\n",
              "    </tr>\n",
              "    <tr>\n",
              "      <th>207</th>\n",
              "      <td>13.20</td>\n",
              "      <td>13.66</td>\n",
              "      <td>0.8883</td>\n",
              "      <td>5.236</td>\n",
              "      <td>3.232</td>\n",
              "      <td>8.315</td>\n",
              "      <td>5.056</td>\n",
              "    </tr>\n",
              "    <tr>\n",
              "      <th>208</th>\n",
              "      <td>11.84</td>\n",
              "      <td>13.21</td>\n",
              "      <td>0.8521</td>\n",
              "      <td>5.175</td>\n",
              "      <td>2.836</td>\n",
              "      <td>3.598</td>\n",
              "      <td>5.044</td>\n",
              "    </tr>\n",
              "    <tr>\n",
              "      <th>209</th>\n",
              "      <td>12.30</td>\n",
              "      <td>13.34</td>\n",
              "      <td>0.8684</td>\n",
              "      <td>5.243</td>\n",
              "      <td>2.974</td>\n",
              "      <td>5.637</td>\n",
              "      <td>5.063</td>\n",
              "    </tr>\n",
              "  </tbody>\n",
              "</table>\n",
              "<p>210 rows × 7 columns</p>\n",
              "</div>"
            ],
            "text/plain": [
              "     height  length   width    std    min    max  kurtosis\n",
              "0     15.26   14.84  0.8710  5.763  3.312  2.221     5.220\n",
              "1     14.88   14.57  0.8811  5.554  3.333  1.018     4.956\n",
              "2     14.29   14.09  0.9050  5.291  3.337  2.699     4.825\n",
              "3     13.84   13.94  0.8955  5.324  3.379  2.259     4.805\n",
              "4     16.14   14.99  0.9034  5.658  3.562  1.355     5.175\n",
              "..      ...     ...     ...    ...    ...    ...       ...\n",
              "205   12.19   13.20  0.8783  5.137  2.981  3.631     4.870\n",
              "206   11.23   12.88  0.8511  5.140  2.795  4.325     5.003\n",
              "207   13.20   13.66  0.8883  5.236  3.232  8.315     5.056\n",
              "208   11.84   13.21  0.8521  5.175  2.836  3.598     5.044\n",
              "209   12.30   13.34  0.8684  5.243  2.974  5.637     5.063\n",
              "\n",
              "[210 rows x 7 columns]"
            ]
          },
          "metadata": {
            "tags": []
          },
          "execution_count": 110
        }
      ]
    },
    {
      "cell_type": "markdown",
      "metadata": {
        "id": "3CYvoztIKjoq",
        "colab_type": "text"
      },
      "source": [
        "2. Determine the number of clusters from the dataset. Is this same as the actual number of classes in the dataset? __(1 marks)__\n",
        "\n",
        "<!-- Choose the best three features using different selection criteria (ANOVA, Chi-squared) based on the purity score for the k-mean cluster (Euclidean distance matrix). Which one is good and why? __(5 marks)__ -->"
      ]
    },
    {
      "cell_type": "code",
      "metadata": {
        "id": "WFia7uNt5POP",
        "colab_type": "code",
        "colab": {
          "base_uri": "https://localhost:8080/",
          "height": 298
        },
        "outputId": "be91056c-49a4-4879-e55b-da4b3609efe2"
      },
      "source": [
        "# INSERT your code (or comment) here\n",
        "#silhouette method is used to find out the clusters in the dataset\n",
        "from sklearn.metrics import silhouette_score\n",
        "from sklearn.cluster import KMeans\n",
        "import matplotlib.pyplot as plt\n",
        "\n",
        "sil = []   #Empty List is created\n",
        "kmax = 10\n",
        "kRange = range(1,10)\n",
        "\n",
        "# the minimum number of clusters should be 2\n",
        "for k in range(2, kmax+1):\n",
        "  kmeans = KMeans(n_clusters = k).fit(feature_Matrix) #kmeans is applied \n",
        "  labels = kmeans.labels_\n",
        "  sil.append(silhouette_score(feature_Matrix, labels, metric = 'euclidean')) #Eulidean metric is applied\n",
        "plt.plot(kRange, sil, \"bx-\", marker='o')\n",
        "plt.ylabel(\"Sum of squared distance\")\n",
        "plt.xlabel(\"Number of cluster\")\n",
        "# The number of classes in the dataset is 3 and the acutual classes is also 3\n",
        "print(f\"The Unique classes in the dataset are: {list(class_Data.value_counts().index)}\")\n",
        "\n"
      ],
      "execution_count": 114,
      "outputs": [
        {
          "output_type": "stream",
          "text": [
            "The Unique classes in the dataset are: [2, 1, 0]\n"
          ],
          "name": "stdout"
        },
        {
          "output_type": "display_data",
          "data": {
            "image/png": "[encoded data removed]",
            "text/plain": [
              "<Figure size 432x288 with 1 Axes>"
            ]
          },
          "metadata": {
            "tags": [],
            "needs_background": "light"
          }
        }
      ]
    },
    {
      "cell_type": "markdown",
      "metadata": {
        "id": "lomdzPf33Ga8",
        "colab_type": "text"
      },
      "source": [
        "3. Perform K-Means clustering on the complete dataset and report purity score. __(2 marks)__ "
      ]
    },
    {
      "cell_type": "code",
      "metadata": {
        "id": "UaI08RF5KoPK",
        "colab_type": "code",
        "colab": {
          "base_uri": "https://localhost:8080/",
          "height": 34
        },
        "outputId": "0c04bfef-cb1b-40ac-bddb-8f9924175b41"
      },
      "source": [
        "# INSERT your code (or comment) here\n",
        "from collections import Counter, defaultdict\n",
        "import numpy as np\n",
        "from sklearn import metrics\n",
        "\n",
        "# Kmeans instance is created with 3 clusters\n",
        "kmeans = KMeans(n_clusters = 3, init='random')\n",
        "#The feature matrix is sclaed\n",
        "featur_Scaledmatrix=scale(feature_Matrix)\n",
        "#feature scaled matrix is fit to the kmeans\n",
        "kmeans = kmeans.fit(featur_Scaledmatrix)\n",
        "labels = kmeans.labels_\n",
        "# purity_Score funcion is created\n",
        "def purity_score(predicted):\n",
        "    # compute contingency matrix (also called confusion matrix)\n",
        "    contingency_matrix = metrics.cluster.contingency_matrix(class_Data, predicted)\n",
        "    # return purity\n",
        "    return np.sum(np.amax(contingency_matrix, axis=0)) / np.sum(contingency_matrix)\n",
        "\n",
        "#purity_Score function is called throghout the program\n",
        "predicted_Output=purity_score(labels)*100\n",
        "print(\"The purity score for the dataset is\", predicted_Output,'%')\n",
        " "
      ],
      "execution_count": 115,
      "outputs": [
        {
          "output_type": "stream",
          "text": [
            "The purity score for the dataset is 91.9047619047619 %\n"
          ],
          "name": "stdout"
        }
      ]
    },
    {
      "cell_type": "markdown",
      "metadata": {
        "id": "CsImMLOzK1dV",
        "colab_type": "text"
      },
      "source": [
        "4. There are several distance metrics for  K-Means such as euclidean, squared euclidean, Manhattan, Chebyshev, Minkowski. [ __Hints:__ See the pyclustering library for python.]\n",
        "    - Your job is to compare the purity score of k-means clustering for different distance metrics. __(5 marks)__ \n",
        "    - Select the best distance metric and explain why this distance metric is best for the given dataset. __(2 marks)__ "
      ]
    },
    {
      "cell_type": "code",
      "metadata": {
        "id": "fQGg12hqueDr",
        "colab_type": "code",
        "colab": {
          "base_uri": "https://localhost:8080/",
          "height": 205
        },
        "outputId": "2b4059d5-d701-40e0-d8f1-b7fb48c91fea"
      },
      "source": [
        "#pyclustering package is installed\n",
        "!pip3 install pyclustering"
      ],
      "execution_count": 99,
      "outputs": [
        {
          "output_type": "stream",
          "text": [
            "Requirement already satisfied: pyclustering in /usr/local/lib/python3.6/dist-packages (0.10.0.1)\n",
            "Requirement already satisfied: matplotlib in /usr/local/lib/python3.6/dist-packages (from pyclustering) (3.2.2)\n",
            "Requirement already satisfied: scipy in /usr/local/lib/python3.6/dist-packages (from pyclustering) (1.4.1)\n",
            "Requirement already satisfied: numpy in /usr/local/lib/python3.6/dist-packages (from pyclustering) (1.18.5)\n",
            "Requirement already satisfied: Pillow in /usr/local/lib/python3.6/dist-packages (from pyclustering) (7.0.0)\n",
            "Requirement already satisfied: python-dateutil>=2.1 in /usr/local/lib/python3.6/dist-packages (from matplotlib->pyclustering) (2.8.1)\n",
            "Requirement already satisfied: cycler>=0.10 in /usr/local/lib/python3.6/dist-packages (from matplotlib->pyclustering) (0.10.0)\n",
            "Requirement already satisfied: pyparsing!=2.0.4,!=2.1.2,!=2.1.6,>=2.0.1 in /usr/local/lib/python3.6/dist-packages (from matplotlib->pyclustering) (2.4.7)\n",
            "Requirement already satisfied: kiwisolver>=1.0.1 in /usr/local/lib/python3.6/dist-packages (from matplotlib->pyclustering) (1.2.0)\n",
            "Requirement already satisfied: six>=1.5 in /usr/local/lib/python3.6/dist-packages (from python-dateutil>=2.1->matplotlib->pyclustering) (1.15.0)\n"
          ],
          "name": "stdout"
        }
      ]
    },
    {
      "cell_type": "code",
      "metadata": {
        "id": "dBNLhGYRKo4a",
        "colab_type": "code",
        "colab": {
          "base_uri": "https://localhost:8080/",
          "height": 101
        },
        "outputId": "49053a0a-e229-4f87-88d9-8ba52be76db7"
      },
      "source": [
        "# INSERT your code (or comment) here\n",
        "from pyclustering.cluster.kmeans import kmeans, kmeans_visualizer\n",
        "from pyclustering.cluster.center_initializer import kmeans_plusplus_initializer\n",
        "from pyclustering.samples.definitions import FCPS_SAMPLES\n",
        "from pyclustering.utils.metric import distance_metric, type_metric\n",
        " \n",
        "#  initial centers is created using K-Means method.\n",
        "kmeans_Initializer = kmeans_plusplus_initializer(featur_Scaledmatrix, 3).initialize()\n",
        "\n",
        "#Implement the K-mean with Euclidean metric\n",
        "euclidean_metric = distance_metric(type_metric.EUCLIDEAN)  #euclidean distance metric is applied\n",
        "kmeans_Euclidean = kmeans(featur_Scaledmatrix, kmeans_Initializer, metric=euclidean_metric)\n",
        "kmeans_Euclidean.process()\n",
        "clusters = kmeans_Euclidean.get_clusters()\n",
        "predicted_Lables=np.zeros(210) \n",
        "predicted_Lables[clusters[0]]=1\n",
        "predicted_Lables[clusters[1]]=2\n",
        "print(f\"The purity score of k-means clustering for EUCLIDEAN metric is {round(purity_score(predicted_Lables)*100, 4)}%\")\n",
        "\n",
        "#Implement the K-mean with squared Eulidean metric\n",
        "euclidean_square_metric = distance_metric(type_metric.EUCLIDEAN_SQUARE)  #squared Eulidean distance metric is applied\n",
        "kmeans_squaredeuclidean = kmeans(featur_Scaledmatrix, kmeans_Initializer, metric=euclidean_square_metric)\n",
        "kmeans_squaredeuclidean.process()\n",
        "clusters = kmeans_squaredeuclidean.get_clusters()\n",
        "predicted_Lables=np.zeros(210)\n",
        "predicted_Lables[clusters[0]]=1\n",
        "predicted_Lables[clusters[1]]=2\n",
        "print(f\"The purity score of k-means clustering for Squared Euclidean metric is {round(purity_score(predicted_Lables)*100, 4)}%\")\n",
        "\n",
        "#Implement the K-mean with manhattan metric\n",
        "manhattan_metric = distance_metric(type_metric.MANHATTAN)   #manhattan distance metric is applied\n",
        "kmeansmanhattan_metric = kmeans(featur_Scaledmatrix, kmeans_Initializer, metric=manhattan_metric)\n",
        "kmeansmanhattan_metric.process()\n",
        "clusters = kmeansmanhattan_metric.get_clusters()\n",
        "predicted_Lables=np.zeros(210)\n",
        "predicted_Lables[clusters[0]]=1\n",
        "predicted_Lables[clusters[1]]=2\n",
        "print(f\"The purity score of k-means clustering for Manhattan metric is {round(purity_score(predicted_Lables)*100, 4)}%\")\n",
        "\n",
        "#Implement the K-mean with Chebyshev metric\n",
        "chebyshev_metric = distance_metric(type_metric.CHEBYSHEV)   #Chebyshev distance metric is applied\n",
        "Chebyshev_metric = kmeans(featur_Scaledmatrix, kmeans_Initializer, metric=chebyshev_metric)\n",
        "Chebyshev_metric.process()\n",
        "clusters = Chebyshev_metric.get_clusters()\n",
        "predicted_Lables=np.zeros(210)\n",
        "predicted_Lables[clusters[0]]=1\n",
        "predicted_Lables[clusters[1]]=2\n",
        "print(f\"The purity score of k-means clustering for Chebyshev metric is {round(purity_score(predicted_Lables)*100, 4)}%\")\n",
        "\n",
        "#Implement the K-mean with Minkowski metric\n",
        "minkowski_metric = distance_metric(type_metric.MINKOWSKI, degree = 4)   #Minkowski distance metric is applied\n",
        "Minkowski_metric = kmeans(featur_Scaledmatrix, kmeans_Initializer, metric=minkowski_metric)\n",
        "Minkowski_metric.process()\n",
        "clusters = Minkowski_metric.get_clusters()\n",
        "predicted_Lables=np.zeros(210)\n",
        "predicted_Lables[clusters[0]]=1\n",
        "predicted_Lables[clusters[1]]=2\n",
        "print(f\"The purity score of k-means clustering for Minkowski metric is {round(purity_score(predicted_Lables)*100, 4)}%\")\n",
        "\n"
      ],
      "execution_count": 123,
      "outputs": [
        {
          "output_type": "stream",
          "text": [
            "The purity score of k-means clustering for EUCLIDEAN metric is 91.9048%\n",
            "The purity score of k-means clustering for Squared Euclidean metric is 90.4762%\n",
            "The purity score of k-means clustering for Manhattan metric is 88.5714%\n",
            "The purity score of k-means clustering for Chebyshev metric is 89.0476%\n",
            "The purity score of k-means clustering for Minkowski metric is 90.9524%\n"
          ],
          "name": "stdout"
        }
      ]
    },
    {
      "cell_type": "code",
      "metadata": {
        "id": "Z_ykNGWMT0rw",
        "colab_type": "code",
        "colab": {}
      },
      "source": [
        "Euclidean has the best distance metric for the given dataset. Because the euclidean comes with the inner product and corelation co-efficient is \n",
        "good amoung classes. So Euclidean metrices has the better metrices than other metrices."
      ],
      "execution_count": null,
      "outputs": []
    },
    {
      "cell_type": "markdown",
      "metadata": {
        "id": "xsG5SQti4b7E",
        "colab_type": "text"
      },
      "source": [
        "5. Use selection criteria (ANOVA, Chi-squared) to select best three features and use them for K-Means clustering. Based on the purity score which feature set are you going to recommend and why? __(3 marks)__"
      ]
    },
    {
      "cell_type": "code",
      "metadata": {
        "id": "9lCTzujBKpL4",
        "colab_type": "code",
        "colab": {
          "base_uri": "https://localhost:8080/",
          "height": 286
        },
        "outputId": "47bd22d3-990a-4a6b-8fbb-3fbf65286f2b"
      },
      "source": [
        "# INSERT your code (or comment) here\n",
        "from sklearn.feature_selection import SelectKBest, chi2, f_classif\n",
        "# Anova method\n",
        "anova = SelectKBest(f_classif, k=3).fit_transform(feature_Matrix, class_Data)\n",
        "anova = pd.DataFrame(anova, columns = [\"height\", \"length\", \"min\"])\n",
        "print(\"The new dataset after using ANOVA method to select three best features:\")\n",
        "print(anova.head())\n",
        "kmeans_anova = KMeans(n_clusters = 3).fit(anova)\n",
        "labels_anova = kmeans_anova.labels_\n",
        "print(f\"The purity score for the new dataset after using annova method to select three best features {round(purity_score(labels_anova)*100, 4)}%\")\n",
        "\n",
        "# chi-squared method\n",
        "chi_Square = SelectKBest(chi2, k=3).fit_transform(feature_Matrix, class_Data)\n",
        "chi_Square = pd.DataFrame(chi_Square, columns = [\"height\", \"length\", \"max\"])\n",
        "print(\"The new dataset after using Chi Square method to select three best features:\")\n",
        "print(chi_Square.head())\n",
        "kmeans_chi = KMeans(n_clusters = 3).fit(chi_Square)\n",
        "labels_chi = kmeans_chi.labels_\n",
        "print(f\"The purity score for the new dataset after using chi-squared method to select three best features {round(purity_score(labels_chi)*100, 4)}%\")\n"
      ],
      "execution_count": 128,
      "outputs": [
        {
          "output_type": "stream",
          "text": [
            "The new dataset after using ANOVA method to select three best features:\n",
            "   height  length    min\n",
            "0   15.26   14.84  3.312\n",
            "1   14.88   14.57  3.333\n",
            "2   14.29   14.09  3.337\n",
            "3   13.84   13.94  3.379\n",
            "4   16.14   14.99  3.562\n",
            "The purity score for the new dataset after using annova method to select three best features 84.2857%\n",
            "The new dataset after using Chi Square method to select three best features:\n",
            "   height  length    max\n",
            "0   15.26   14.84  2.221\n",
            "1   14.88   14.57  1.018\n",
            "2   14.29   14.09  2.699\n",
            "3   13.84   13.94  2.259\n",
            "4   16.14   14.99  1.355\n",
            "The purity score for the new dataset after using chi-squared method to select three best features 89.5238%\n"
          ],
          "name": "stdout"
        }
      ]
    },
    {
      "cell_type": "code",
      "metadata": {
        "id": "8b6N1XOiX0tv",
        "colab_type": "code",
        "colab": {}
      },
      "source": [
        "Based on the purity score of Anova and Chi-squared. Chi-squared has the better purity score when compared with annova."
      ],
      "execution_count": null,
      "outputs": []
    },
    {
      "cell_type": "markdown",
      "metadata": {
        "id": "Key1p4RKLEW9",
        "colab_type": "text"
      },
      "source": [
        "# Part-2 (Dimensionality Reduction using PCA/SVD) *(15 marks)*\n",
        "\n",
        "1. For the dataset (clustering.csv), perform PCA.\n",
        "    - plot the captured variance with respect to increasing latent dimensionality. __(2.5 marks)__\n",
        "  \n",
        "  What is the minimum dimension that captures:\n",
        "    - at least 89% variance? __(1.5 marks)__\n",
        "    - at least 99% variance? __(1 marks)__"
      ]
    },
    {
      "cell_type": "code",
      "metadata": {
        "id": "bcNJP0B8Vi8b",
        "colab_type": "code",
        "colab": {
          "base_uri": "https://localhost:8080/",
          "height": 296
        },
        "outputId": "1eefc1bc-d782-4f92-8116-d274abc3de2a"
      },
      "source": [
        "# INSERT your code (or comment) here\n",
        "from sklearn.preprocessing import scale\n",
        "\n",
        "#perform PCA using sklearn PCA implementation\n",
        "from sklearn.decomposition import PCA\n",
        "pca = PCA()\n",
        "# featur_Scaledmatrix is fit to PCA\n",
        "pca = pca.fit(featur_Scaledmatrix)\n",
        "cumsum=np.cumsum(np.round(pca.explained_variance_ratio_, decimals=4)*100)\n",
        "plt.plot(cumsum,marker='o', color='y')\n",
        "plt.xlabel(\"Principal components\")\n",
        "plt.ylabel(\"Variance captured\")"
      ],
      "execution_count": 127,
      "outputs": [
        {
          "output_type": "execute_result",
          "data": {
            "text/plain": [
              "Text(0, 0.5, 'Variance captured')"
            ]
          },
          "metadata": {
            "tags": []
          },
          "execution_count": 127
        },
        {
          "output_type": "display_data",
          "data": {
            "image/png": "[encoded data removed]",
            "text/plain": [
              "<Figure size 432x288 with 1 Axes>"
            ]
          },
          "metadata": {
            "tags": [],
            "needs_background": "light"
          }
        }
      ]
    },
    {
      "cell_type": "code",
      "metadata": {
        "id": "T-N0w-Rrq6b9",
        "colab_type": "code",
        "colab": {
          "base_uri": "https://localhost:8080/",
          "height": 50
        },
        "outputId": "9edfb1ce-c6f0-4105-88f6-f4edbf74c70a"
      },
      "source": [
        "#89% variance is applied\n",
        "pca_89 = PCA(n_components= 0.89)\n",
        "#fit transform is performed on featur_Scaledmatrix\n",
        "fit_Transform89 = pca_89.fit_transform(featur_Scaledmatrix)\n",
        "print(\"the minimum dimension that captures at least 89% variance is\",pca_89.n_components_)\n",
        "\n",
        "#99% variance is applied\n",
        "pca_99 = PCA(n_components= 0.99)\n",
        "#fit transform is performed on featur_Scaledmatrix\n",
        "fit_Transform99= pca_99.fit_transform(featur_Scaledmatrix)\n",
        "print(\"the minimum dimension that captures at least 99% variance is\",pca_99.n_components_)"
      ],
      "execution_count": 130,
      "outputs": [
        {
          "output_type": "stream",
          "text": [
            "the minimum dimension that captures at least 89% variance is 3\n",
            "the minimum dimension that captures at least 99% variance is 4\n"
          ],
          "name": "stdout"
        }
      ]
    },
    {
      "cell_type": "markdown",
      "metadata": {
        "id": "x9JPYP0vLKzp",
        "colab_type": "text"
      },
      "source": [
        "2. Determine the purity of clusters formed by the number of principal components which captured 89% and 99% variances respectively. Plot a line graph of the purity scores against the captured variances. Discuss your findings. __(7 marks)__"
      ]
    },
    {
      "cell_type": "code",
      "metadata": {
        "id": "8_a-xp2PKpya",
        "colab_type": "code",
        "colab": {
          "base_uri": "https://localhost:8080/",
          "height": 330
        },
        "outputId": "dd0d854b-0d98-4d9c-9367-fff58c0266fc"
      },
      "source": [
        "# INSERT your code (or comment) here\n",
        "#Kmeans is applied with 3 clusters \n",
        "kmeans_89 = KMeans(n_clusters = 3).fit(fit_Transform89)\n",
        "labels_89  = kmeans_89.labels_\n",
        "#calling purity score function\n",
        "purity89=purity_score(labels_89)*100\n",
        "print('the purity score of the 89% variance is',purity89,'%')\n",
        "\n",
        "#Count the number if the labeks in each cluster and save the data into clustering_classes\n",
        "\n",
        "#Find the label that appear mostly each cluster and compute the purity score.\n",
        "\n",
        "kmeans_99 = KMeans(n_clusters = 3).fit(fit_Transform99)\n",
        "labels_99  = kmeans_99.labels_\n",
        "#calling purity score function\n",
        "purity99=purity_score(labels_99)*100\n",
        "print('the purity score of the 89% variance is',purity99,'%')\n",
        "\n",
        "purity_scores = [purity89, purity99] \n",
        "Variance = [0.89, 0.99]\n",
        "plt.plot(purity_scores, Variance, marker='o')\n",
        "plt.xlabel(\"captured variances.\")\n",
        "plt.ylabel(\"Purity scores\")"
      ],
      "execution_count": 132,
      "outputs": [
        {
          "output_type": "stream",
          "text": [
            "the purity score of the 89% variance is 92.38095238095238 %\n",
            "the purity score of the 89% variance is 91.9047619047619 %\n"
          ],
          "name": "stdout"
        },
        {
          "output_type": "execute_result",
          "data": {
            "text/plain": [
              "Text(0, 0.5, 'Purity scores')"
            ]
          },
          "metadata": {
            "tags": []
          },
          "execution_count": 132
        },
        {
          "output_type": "display_data",
          "data": {
            "image/png": "[encoded data removed]",
            "text/plain": [
              "<Figure size 432x288 with 1 Axes>"
            ]
          },
          "metadata": {
            "tags": [],
            "needs_background": "light"
          }
        }
      ]
    },
    {
      "cell_type": "markdown",
      "metadata": {
        "id": "8RmhzV_MK-ia",
        "colab_type": "text"
      },
      "source": [
        "3. Let's assume you have two datasets one is linear and another is curved structural data.\n",
        "    - Can we apply PCA on these datasets? Justify your answer. __(3 marks)__ "
      ]
    },
    {
      "cell_type": "code",
      "metadata": {
        "id": "_9NpVDBwKqD-",
        "colab_type": "code",
        "colab": {}
      },
      "source": [
        "# INSERT your code (or comment) here\n",
        "Principal Component Analysis (PCA) can be applied on linear dataset because it is a linear dimensionality reduction method that can be used to collect data from a high-dimensional space\n",
        "by translating it into a smaller sub-region. It aims to protect the critical components that have more data variability and to eliminate the \n",
        "non-essential components of less data variance.\n",
        "Principal Component Analysis (PCA) can be applied on on curved structural data but the corelation between the points will not be good and PCA can also be applied only when we transform the data."
      ],
      "execution_count": null,
      "outputs": []
    }
  ]
}