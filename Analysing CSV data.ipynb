{
  "nbformat": 4,
  "nbformat_minor": 0,
  "metadata": {
    "kernelspec": {
      "language": "python",
      "display_name": "Python 3",
      "name": "python3"
    },
    "language_info": {
      "pygments_lexer": "ipython3",
      "nbconvert_exporter": "python",
      "version": "3.6.4",
      "file_extension": ".py",
      "codemirror_mode": {
        "name": "ipython",
        "version": 3
      },
      "name": "python",
      "mimetype": "text/x-python"
    },
    "colab": {
      "name": "A1.ipynb",
      "provenance": [],
      "collapsed_sections": []
    }
  },
  "cells": [
    {
      "cell_type": "markdown",
      "metadata": {
        "id": "1cBt-DED-MC9",
        "colab_type": "text"
      },
      "source": [
        "#**SIT 720 - Machine Learning**\n",
        "\n",
        "Lecturer: Chandan Karmakar | karmakar@deakin.edu.au\n",
        "\n",
        "School of Information Technology,\n",
        "<br/>Deakin University, VIC 3125, Australia."
      ]
    },
    {
      "cell_type": "markdown",
      "metadata": {
        "id": "qSfW2iPaFFq5",
        "colab_type": "text"
      },
      "source": [
        "#**Assessment Task 1 (20 marks)**\n",
        "\n",
        "##**Submission Instruction**\n",
        "1.  Student should insert Python code or text responses into the cell followed by the question.\n",
        "\n",
        "2.  For answers regarding discussion or explanation, **maximum five sentences are suggested**.\n",
        "\n",
        "3.  Rename this notebook file appending your student ID. For example, for student ID 1234, the submitted file name should be A0_1234.ipynb.\n",
        "\n",
        "4.  Insert your student ID and name in the following cell."
      ]
    },
    {
      "cell_type": "code",
      "metadata": {
        "id": "45gFUaXcF8oG",
        "colab_type": "code",
        "colab": {}
      },
      "source": [
        "# Student ID: 219155861     \n",
        "\n",
        "# Student name: Naveen Chuka Radhakrishna\n"
      ],
      "execution_count": null,
      "outputs": []
    },
    {
      "cell_type": "markdown",
      "metadata": {
        "id": "JtEbRsB1_P_j",
        "colab_type": "text"
      },
      "source": [
        "\n",
        "\n",
        "##**Background**\n",
        "Selection of housing is always difficult for someone seeking for a suitable one as it includes various factors and preferences. People prefer to buy a house considering many criteria like- population, quality of life, financial capability, as well as social and natural environments around the housing block. In this assignment you will be helping people choosing suitable housing for them according to their needs.\n",
        "##**Dataset**\n",
        "**Dataset file name:** housing_dataset.csv\n",
        "\n",
        "**Dataset description:** Dataset contains total 10 features (columns). It contains the location, housing age, population, number of families in a housing (block), number of rooms, average income of the families in that housing, ocean proximity and other informaiton. Each row indicates a record of a housing block containing the features mentioned earlier.\n",
        "\n",
        "**Features:** \n",
        "\n",
        "1.   latitude (float): Latitude of the location of a housing in conventional geospace\n",
        "2.   longitude (float): Longitude of the location of a housing in conventional geospace\n",
        "3.   housing_age (int): Age of the housing in year, the higher number indicates the older housing\n",
        "4.    total_rooms (int): Total number of rooms in a housing\n",
        "5.    total_bedrooms (int): Total number of bedrooms in a housing\n",
        "6.    population (int): Total population of a housing\n",
        "7.    families (int): Total number of families living in a housing\n",
        "8.    average_income (float): Average income of the member of a housing in a scale of Tousand Dollar Per Month\n",
        "9.    ocean_proximity (string): Describing how close the housing is to the ocean\n",
        "10.   house_value (int): Average individual house price of a housing in Dollers\n"
      ]
    },
    {
      "cell_type": "markdown",
      "metadata": {
        "id": "rQs2cqHo_7wC",
        "colab_type": "text"
      },
      "source": [
        "\n",
        "\n",
        "##**Part-1: Basic Calculations:**  *(8 marks: 8 questions x 1 marks each)*\n",
        "\n",
        "\n",
        "1.   Find the distances of the farthest and nearest housing blocks from the house block described in the first row of the dataset."
      ]
    },
    {
      "cell_type": "code",
      "metadata": {
        "id": "O0r1-UqH__3s",
        "colab_type": "code",
        "colab": {}
      },
      "source": [
        "# INSERT your code here.\n",
        "import pandas as pd  # import pandas library\n",
        "# read.csv is used to read the data from the filr location\n",
        "housing_Datasets= pd.read_csv(\"/content/sample_data/housing_dataset.csv\") \n",
        "housing_Dataset=housing_Datasets"
      ],
      "execution_count": 1,
      "outputs": []
    },
    {
      "cell_type": "code",
      "metadata": {
        "id": "6ZDnBXQ7faST",
        "colab_type": "code",
        "colab": {
          "base_uri": "https://localhost:8080/",
          "height": 50
        },
        "outputId": "735a35e2-4eb6-41db-a94f-dab4100d666d"
      },
      "source": [
        "from math import cos, asin, sqrt, pi\n",
        "\n",
        "#Function to Calcualte the distance between two distance points.\n",
        "def distance(lat1, lon1, lat2, lon2):\n",
        "    p = pi/180\n",
        "    a = 0.5 - cos((lat2-lat1)*p)/2 + cos(lat1*p) * cos(lat2*p) * (1-cos((lon2-lon1)*p))/2\n",
        "    return 12742 * asin(sqrt(a)) \n",
        "#List to Hold all the distance from the first row of the dataset \n",
        "distance_km = []  \n",
        "\n",
        "#for loop to find distance and append it to list distance_km\n",
        "\n",
        "for i in range(0,housing_Dataset.shape[0],1):\n",
        "    distance_km.append( distance(housing_Dataset.iloc[0,1],housing_Dataset.iloc[0,0],housing_Dataset.iloc[i,1],housing_Dataset.iloc[i,0]) )\n",
        "\n",
        "housing_Dataset['distance_km'] = distance_km  #adding a column to Hosuing Data_Set \n",
        "\n",
        "print(\"Distance of the farthest Housing Block = \" ,housing_Dataset['distance_km'].nlargest(1).iloc[0],'KM')\n",
        "print(\"Distance of the Nearest Housing Block = \", housing_Dataset['distance_km'].nsmallest(2).iloc[-1],'KM')"
      ],
      "execution_count": 2,
      "outputs": [
        {
          "output_type": "stream",
          "text": [
            "Distance of the farthest Housing Block =  896.2777794337468 KM\n",
            "Distance of the Nearest Housing Block =  0.8776598447105558 KM\n"
          ],
          "name": "stdout"
        }
      ]
    },
    {
      "cell_type": "markdown",
      "metadata": {
        "id": "CGNHL-MAACPJ",
        "colab_type": "text"
      },
      "source": [
        "2.   Calculate the average age of the house blocks near the ocean."
      ]
    },
    {
      "cell_type": "code",
      "metadata": {
        "id": "-PmJE7wPAHeQ",
        "colab_type": "code",
        "colab": {
          "base_uri": "https://localhost:8080/",
          "height": 50
        },
        "outputId": "8a33e690-3d60-4097-cb0c-211ed0c171aa"
      },
      "source": [
        "#Function to calculate the average age of the house blocks\n",
        "# A housing dataset is used along with ocean_proximity column to find out the NEAR OCAN fields.\n",
        "near_Bay=housing_Dataset[housing_Dataset['ocean_proximity']=='NEAR OCEAN'] \n",
        "print('The average age of the housing blocks is:')\n",
        "near_Bay['housing_age'].mean(skipna= True) #To find the average of the housing age mean() method is used."
      ],
      "execution_count": 3,
      "outputs": [
        {
          "output_type": "stream",
          "text": [
            "The average age of the housing blocks is:\n"
          ],
          "name": "stdout"
        },
        {
          "output_type": "execute_result",
          "data": {
            "text/plain": [
              "29.347253574115875"
            ]
          },
          "metadata": {
            "tags": []
          },
          "execution_count": 3
        }
      ]
    },
    {
      "cell_type": "markdown",
      "metadata": {
        "id": "7xx5_8BlASae",
        "colab_type": "text"
      },
      "source": [
        "3.   Find the income of the housing block with the most and least population density (per family)."
      ]
    },
    {
      "cell_type": "code",
      "metadata": {
        "id": "mC3E-Fq6AYTm",
        "colab_type": "code",
        "colab": {
          "base_uri": "https://localhost:8080/",
          "height": 84
        },
        "outputId": "26e40150-8890-4b31-9508-f881c2538c3c"
      },
      "source": [
        "#Fuction to calculate the moast and least population density of the housing block\n",
        "#To find the population density bothe population and familes column is taken and divided to find out the populaton density and added in the housing dataset\n",
        "housing_Dataset['population_Density']= housing_Dataset['population']/housing_Dataset['families']\n",
        "\n",
        "# The population_Density column is taken in which the maximum value is taken\n",
        "population_density_Max=housing_Dataset[housing_Dataset.population_Density==housing_Dataset.population_Density.max()]\n",
        "\n",
        "# The population_Density column is taken in which the mininum value is taken\n",
        "population_density_Min=housing_Dataset[housing_Dataset.population_Density==housing_Dataset.population_Density.min()]\n",
        "\n",
        "print('average income of the most population density per family:',population_density_Max['average_income'])\n",
        "print('average income of the least population density per family:',population_density_Min['average_income'])\n",
        "\n"
      ],
      "execution_count": 4,
      "outputs": [
        {
          "output_type": "stream",
          "text": [
            "average income of the most population density per family: 19006    10.2264\n",
            "Name: average_income, dtype: float64\n",
            "average income of the least population density per family: 11849    2.5893\n",
            "Name: average_income, dtype: float64\n"
          ],
          "name": "stdout"
        }
      ]
    },
    {
      "cell_type": "markdown",
      "metadata": {
        "id": "fvMmRTzpAd5J",
        "colab_type": "text"
      },
      "source": [
        "4.   Calculate the price difference between the latest and oldest housing block from the dataset."
      ]
    },
    {
      "cell_type": "code",
      "metadata": {
        "id": "4rKQUPpyAfWQ",
        "colab_type": "code",
        "colab": {
          "base_uri": "https://localhost:8080/",
          "height": 34
        },
        "outputId": "f9db50b5-ef9d-49f9-d80e-b7b5bfcb1bd1"
      },
      "source": [
        "# INSERT your code here.\n",
        "#Function to caluculate the price differnce between the latest and oldest housing block\n",
        "\n",
        "#Housing dataset and housing age column is taken in which the max() method is used to find out the subscequent rows and house value column is taken to find the maximum of the latest housing block\n",
        "house_Cost_Max=housing_Dataset[housing_Dataset.housing_age==housing_Dataset.housing_age.max()]\n",
        "latest_Block=house_Cost_Max['house_value'].max()\n",
        "\n",
        "# #Housing dataset and housing age column is taken in which the min() method is used to find out the subscequent rows and house value column is taken to find the maximum of the oldest housing block\n",
        "house_Cost_Min=housing_Dataset[housing_Dataset.housing_age==housing_Dataset.housing_age.min()]\n",
        "oldest_Block= house_Cost_Min['house_value'].max()\n",
        "\n",
        "#differnce is found out for latest and oldest housing block \n",
        "differnce_Rate= latest_Block-oldest_Block\n",
        "print('The price difference between the latest and oldest housing block',differnce_Rate)"
      ],
      "execution_count": 5,
      "outputs": [
        {
          "output_type": "stream",
          "text": [
            "The price difference between the latest and oldest housing block 308701\n"
          ],
          "name": "stdout"
        }
      ]
    },
    {
      "cell_type": "markdown",
      "metadata": {
        "id": "pZl4zZM9Akg-",
        "colab_type": "text"
      },
      "source": [
        "5.   Calculate the cheapest price per room from the dataset."
      ]
    },
    {
      "cell_type": "code",
      "metadata": {
        "id": "NgSh7WpaAlb1",
        "colab_type": "code",
        "colab": {
          "base_uri": "https://localhost:8080/",
          "height": 34
        },
        "outputId": "c0efb722-6d94-4b5f-c187-b716bed26708"
      },
      "source": [
        "#The cheapest price per room is found from expensive_room column using min() method\n",
        "housing_Dataset['priceper_Room']= housing_Dataset['house_value']/housing_Dataset['total_rooms']\n",
        "print(\" the cheapest price per room from the dataset:\",housing_Dataset.priceper_Room.min())"
      ],
      "execution_count": 6,
      "outputs": [
        {
          "output_type": "stream",
          "text": [
            " the cheapest price per room from the dataset: 1.595444807757357\n"
          ],
          "name": "stdout"
        }
      ]
    },
    {
      "cell_type": "markdown",
      "metadata": {
        "id": "YpRQNYwGAncM",
        "colab_type": "text"
      },
      "source": [
        "6.   Calculate the population density (per family) for the most and least wealthy housing blocks in the dataset."
      ]
    },
    {
      "cell_type": "code",
      "metadata": {
        "id": "RtKpkz57AqVl",
        "colab_type": "code",
        "colab": {
          "base_uri": "https://localhost:8080/",
          "height": 50
        },
        "outputId": "29567f4f-c989-483d-8f0f-943daaf4dd1f"
      },
      "source": [
        "# INSERT your code here.\n",
        "#Function to calculate the most and least wealthy housing blocks in the dataset\n",
        "\n",
        "#Average income column and max() method is used to find the maximum house income and takes the subscequent rows and mean of the population density column is found\n",
        "average_Income_Max=housing_Dataset[housing_Dataset.average_income==housing_Dataset.average_income.max()]\n",
        "population_Density_Most= average_Income_Max['population_Density'].mean()\n",
        "\n",
        "#Average income column and min() method is used to find the minimum house income and takes the subscequent rows and mean of the population density column is found\n",
        "average_Income_Min=housing_Dataset[housing_Dataset.average_income==housing_Dataset.average_income.min()]\n",
        "population_Density_Least= average_Income_Min['population_Density'].mean()\n",
        "print('most wealthy housing blocks of',population_Density_Most)\n",
        "print('least wealthy housing blocks of',population_Density_Least)\n"
      ],
      "execution_count": 7,
      "outputs": [
        {
          "output_type": "stream",
          "text": [
            "most wealthy housing blocks of 3.307545896889619\n",
            "least wealthy housing blocks of 3.4754772079772085\n"
          ],
          "name": "stdout"
        }
      ]
    },
    {
      "cell_type": "markdown",
      "metadata": {
        "id": "nj1raWPgAsiy",
        "colab_type": "text"
      },
      "source": [
        "7.   Calculate and print the total housing blocks located in the same place."
      ]
    },
    {
      "cell_type": "code",
      "metadata": {
        "id": "AHI-K9m-AwDR",
        "colab_type": "code",
        "colab": {
          "base_uri": "https://localhost:8080/",
          "height": 134
        },
        "outputId": "781ca090-e89f-46bd-87fa-c425e9a03647"
      },
      "source": [
        "# INSERT your code here.\n",
        "# gruopby() and size() method is used to find the size of the housing block of ocean proximity\n",
        "housing_Dataset.groupby(['ocean_proximity']).size()"
      ],
      "execution_count": 8,
      "outputs": [
        {
          "output_type": "execute_result",
          "data": {
            "text/plain": [
              "ocean_proximity\n",
              "<1H OCEAN     9136\n",
              "INLAND        6551\n",
              "ISLAND           5\n",
              "NEAR BAY      2290\n",
              "NEAR OCEAN    2658\n",
              "dtype: int64"
            ]
          },
          "metadata": {
            "tags": []
          },
          "execution_count": 8
        }
      ]
    },
    {
      "cell_type": "markdown",
      "metadata": {
        "id": "44Ak48NQA1G8",
        "colab_type": "text"
      },
      "source": [
        "8.   Calculate the price of expensive room grouped by ocean proximity."
      ]
    },
    {
      "cell_type": "code",
      "metadata": {
        "id": "wuMgmiElA2Eo",
        "colab_type": "code",
        "colab": {
          "base_uri": "https://localhost:8080/",
          "height": 134
        },
        "outputId": "b3a8a8b0-8a25-4b34-d831-4e683743aa4b"
      },
      "source": [
        "# INSERT your code here.\n",
        "#Function to calculate the price of the expensive room\n",
        "#groupby() and max() is used to find the expensive room\n",
        "priceper_Room= housing_Dataset.groupby('ocean_proximity')['priceper_Room'].max()\n",
        "print('The price of the expensive room grouped by ',priceper_Room)"
      ],
      "execution_count": 9,
      "outputs": [
        {
          "output_type": "stream",
          "text": [
            "The price of the expensive room grouped by  ocean_proximity\n",
            "<1H OCEAN     22500.000000\n",
            "INLAND        68750.000000\n",
            "ISLAND          451.807229\n",
            "NEAR BAY      62500.125000\n",
            "NEAR OCEAN    23333.333333\n",
            "Name: priceper_Room, dtype: float64\n"
          ],
          "name": "stdout"
        }
      ]
    },
    {
      "cell_type": "markdown",
      "metadata": {
        "id": "DtPZm2IpA4_u",
        "colab_type": "text"
      },
      "source": [
        "##**Part-2: Visualization:**  *(6 marks: 3 question x 2 marks each)*\n",
        "\n",
        "\n",
        "1.   Draw the population scatter plot against housing age and another against ocean proximity. From the graph conclude an assumption."
      ]
    },
    {
      "cell_type": "code",
      "metadata": {
        "id": "iKJ8-NjgA9fE",
        "colab_type": "code",
        "colab": {
          "base_uri": "https://localhost:8080/",
          "height": 558
        },
        "outputId": "2ebdbae8-1861-47a5-83a2-6ea7ae658444"
      },
      "source": [
        "# INSERT your code here.\n",
        "import matplotlib.pyplot as plt\n",
        "#scatter plot is applied for ocean_proximity and population\n",
        "plt.scatter(housing_Dataset['ocean_proximity'], housing_Dataset['population'], color='Blue')\n",
        "#X-axis is heading \n",
        "plt.xlabel('OCEAN PROXIMITY')\n",
        "#y-axis heading\n",
        "plt.ylabel('POPULATION')\n",
        "#show() is used to show the scatter plot\n",
        "plt.show()\n",
        "\n",
        "#scatter plot is applied for housing_age and population\n",
        "plt.scatter(housing_Dataset['housing_age'], housing_Dataset['population'], color='yellow')\n",
        "#X-axis is heading \n",
        "plt.xlabel('AGE OF HOUSES')\n",
        "#y-axis heading\n",
        "plt.ylabel('POPULATION')"
      ],
      "execution_count": 10,
      "outputs": [
        {
          "output_type": "display_data",
          "data": {
            "image/png": "[encoded data removed]",
            "text/plain": [
              "<Figure size 432x288 with 1 Axes>"
            ]
          },
          "metadata": {
            "tags": [],
            "needs_background": "light"
          }
        },
        {
          "output_type": "execute_result",
          "data": {
            "text/plain": [
              "Text(0, 0.5, 'POPULATION')"
            ]
          },
          "metadata": {
            "tags": []
          },
          "execution_count": 10
        },
        {
          "output_type": "display_data",
          "data": {
            "image/png": "[encoded data removed]",
            "text/plain": [
              "<Figure size 432x288 with 1 Axes>"
            ]
          },
          "metadata": {
            "tags": [],
            "needs_background": "light"
          }
        }
      ]
    },
    {
      "cell_type": "markdown",
      "metadata": {
        "id": "QyTMJo_zGSgc",
        "colab_type": "text"
      },
      "source": [
        "a)In the scatter plot the age of houses vs population clearly shows that there are some anomoly detections and those anomoly are near 30000-35000. Other points and age of other houses are in between 0-15000. Moastly between 0-10 years there is more population compared to other ages.\n",
        "\n",
        "b) In the scatter plot ocean proximity vs population some anamoly detections are found around 30000-35000. But other scatter points are found between 0-18000. In which <1H ocean has highest population compared to other regions. Secondly comes near ocean and follwed by other regions."
      ]
    },
    {
      "cell_type": "markdown",
      "metadata": {
        "id": "WAm9CdIsA_yi",
        "colab_type": "text"
      },
      "source": [
        "2.  Draw a bar diagram of average values of all suitable columns. (excluding latitude, longitude and ocean proximity of course)."
      ]
    },
    {
      "cell_type": "code",
      "metadata": {
        "id": "RKwoOm5OBC6w",
        "colab_type": "code",
        "colab": {
          "base_uri": "https://localhost:8080/",
          "height": 359
        },
        "outputId": "14082027-8287-42bd-f0fc-4c07aa7fbe51"
      },
      "source": [
        "# INSERT your code here.\n",
        "#bar chart is for all columns excluding the mentioned columns\n",
        "housing_Datasets.loc[:, ~housing_Dataset.columns.isin(['longitude', 'latitude', 'ocean_proximity','population_Density'])].mean().plot(kind='bar').set_ylim(0,6000)\n"
      ],
      "execution_count": 11,
      "outputs": [
        {
          "output_type": "execute_result",
          "data": {
            "text/plain": [
              "(0.0, 6000.0)"
            ]
          },
          "metadata": {
            "tags": []
          },
          "execution_count": 11
        },
        {
          "output_type": "display_data",
          "data": {
            "image/png": "[encoded data removed]",
            "text/plain": [
              "<Figure size 432x288 with 1 Axes>"
            ]
          },
          "metadata": {
            "tags": [],
            "needs_background": "light"
          }
        }
      ]
    },
    {
      "cell_type": "markdown",
      "metadata": {
        "id": "EupiTHf8BEvA",
        "colab_type": "text"
      },
      "source": [
        "3.   Visualize the differences in housing prices from the average price of housing using a bar diagram."
      ]
    },
    {
      "cell_type": "code",
      "metadata": {
        "id": "j6tBhj2PBIZK",
        "colab_type": "code",
        "colab": {
          "base_uri": "https://localhost:8080/",
          "height": 530
        },
        "outputId": "89105b0a-3a2c-4bd1-c068-29c2f3925771"
      },
      "source": [
        "# INSERT your code here.\n",
        "average_Housing  = housing_Dataset.groupby('ocean_proximity').mean()['house_value']\n",
        "\n",
        "# your plot setup\n",
        "fig,ax= plt.subplots()\n",
        "average_Housing.sort_values().plot(kind=\"bar\", ax=ax, color='y',figsize=(15,7))\n",
        "\n",
        "plt.minorticks_on()\n",
        "ax.tick_params(axis='x',which='minor')\n",
        "\n",
        "ax.set_ylabel(\"Price\")\n",
        "ax.set_title((\"Differences in housing prices from the average price of housing using a bar diagram based on ocean Proximity\".upper()), fontsize=10)\n",
        "\n",
        "# use axhline\n",
        "mean = housing_Dataset['house_value'].mean()\n",
        "ax.axhline(mean,color = 'r')"
      ],
      "execution_count": 12,
      "outputs": [
        {
          "output_type": "execute_result",
          "data": {
            "text/plain": [
              "<matplotlib.lines.Line2D at 0x7f19178db2e8>"
            ]
          },
          "metadata": {
            "tags": []
          },
          "execution_count": 12
        },
        {
          "output_type": "display_data",
          "data": {
            "image/png": "[encoded data removed]",
            "text/plain": [
              "<Figure size 1080x504 with 1 Axes>"
            ]
          },
          "metadata": {
            "tags": [],
            "needs_background": "light"
          }
        }
      ]
    },
    {
      "cell_type": "markdown",
      "metadata": {
        "id": "FgBaJ0rWBKk-",
        "colab_type": "text"
      },
      "source": [
        "##**Part-3: File Management:**  *(6 marks: 2 question x 3 marks each)*\n",
        "\n",
        " \n",
        "\n",
        "1.   Save the details of all housing blocks in a csv file having houses near oceans and  lower than the average of the housing value."
      ]
    },
    {
      "cell_type": "code",
      "metadata": {
        "id": "c0BR_AMxBOu_",
        "colab_type": "code",
        "colab": {}
      },
      "source": [
        "# INSERT your code here.\n",
        "#to_csv() is used to export the dataset \n",
        "near_Ocean_Housingvalue= housing_Dataset[(housing_Dataset['ocean_proximity']=='NEAR OCEAN') & (housing_Dataset['house_value'] < housing_Dataset['house_value'].mean())]\n",
        "near_Ocean_Housingvalue.to_csv('near_Ocean_Housingvalue.csv')"
      ],
      "execution_count": 70,
      "outputs": []
    },
    {
      "cell_type": "markdown",
      "metadata": {
        "id": "KDM2MY16-qHs",
        "colab_type": "text"
      },
      "source": [
        "\n",
        "\n",
        "\n",
        "\n",
        "\n",
        "2.   Create a new housing dataset (a csv file) having only the location, total rooms and housing price information.\n",
        "\n",
        "\n",
        "\n",
        "\n"
      ]
    },
    {
      "cell_type": "code",
      "metadata": {
        "id": "uwmK7HfYdzHd",
        "colab_type": "code",
        "colab": {}
      },
      "source": [
        "# INSERT your code here.\n",
        "#to_csv() is used to export the dataset \n",
        "new_House_Dataset= housing_Dataset[['longitude','latitude','total_rooms','house_value']]\n",
        "new_House_Dataset.to_csv('new_House_Dataset.csv')"
      ],
      "execution_count": 71,
      "outputs": []
    }
  ]
}